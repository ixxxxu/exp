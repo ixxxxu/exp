{
 "cells": [
  {
   "cell_type": "markdown",
   "metadata": {},
   "source": [
    "### 루브릭\n",
    "\n",
    "평가문항\n",
    "1. Abstractive 모델 구성을 위한 텍스트 전처리 단계가 체계적으로 진행되었다.\n",
    "    - 분석단계, 정제단계, 정규화와 불용어 제거, 데이터셋 분리, 인코딩 과정이 빠짐없이 체계적으로 진행되었다.\n",
    "\n",
    "2. 텍스트 요약모델이 성공적으로 학습되었음을 확인하였다.\n",
    "    - 모델학습이 안정적으로 수렴되었음을 그래프를 통해 확인하였으며, 실제 요약문과 유사한 요약문장을 얻을 수 있었다.\n",
    "\n",
    "3. Extractive 요약을 시도해 보고 Abstractive 요약 결과과 함께 비교해 보았다.\n",
    "    - 두 요약 결과를 문법완성도 측면과 핵심단어 포함 측면으로 나누어 비교분석 결과를 제시하였다."
   ]
  },
  {
   "cell_type": "markdown",
   "metadata": {},
   "source": [
    "### 추상적 요약과 추출적 요약 "
   ]
  },
  {
   "cell_type": "code",
   "execution_count": 74,
   "metadata": {},
   "outputs": [
    {
     "name": "stdout",
     "output_type": "stream",
     "text": [
      "Requirement already satisfied: nltk in /home/aiffel/anaconda3/envs/aiffel/lib/python3.8/site-packages (3.5)\r\n",
      "Requirement already satisfied: beautifulsoup4 in /home/aiffel/anaconda3/envs/aiffel/lib/python3.8/site-packages (4.9.3)\r\n",
      "Requirement already satisfied: soupsieve>1.2 in /home/aiffel/anaconda3/envs/aiffel/lib/python3.8/site-packages (from beautifulsoup4) (2.0.1)\r\n",
      "Requirement already satisfied: tqdm in /home/aiffel/anaconda3/envs/aiffel/lib/python3.8/site-packages (from nltk) (4.50.2)\r\n",
      "Requirement already satisfied: regex in /home/aiffel/anaconda3/envs/aiffel/lib/python3.8/site-packages (from nltk) (2020.10.15)\r\n",
      "Requirement already satisfied: joblib in /home/aiffel/anaconda3/envs/aiffel/lib/python3.8/site-packages (from nltk) (0.17.0)\r\n",
      "Requirement already satisfied: click in /home/aiffel/anaconda3/envs/aiffel/lib/python3.8/site-packages (from nltk) (7.1.2)\r\n"
     ]
    }
   ],
   "source": [
    "! pip install nltk beautifulsoup4"
   ]
  },
  {
   "cell_type": "markdown",
   "metadata": {},
   "source": [
    "### 1.데이터 수집"
   ]
  },
  {
   "cell_type": "code",
   "execution_count": 75,
   "metadata": {},
   "outputs": [
    {
     "name": "stderr",
     "output_type": "stream",
     "text": [
      "[nltk_data] Downloading package stopwords to /home/aiffel/nltk_data...\n",
      "[nltk_data]   Package stopwords is already up-to-date!\n"
     ]
    }
   ],
   "source": [
    "#라이브러리 세팅\n",
    "import nltk\n",
    "nltk.download('stopwords')\n",
    "\n",
    "import numpy as np\n",
    "import pandas as pd\n",
    "import os\n",
    "import re\n",
    "import matplotlib.pyplot as plt\n",
    "from nltk.corpus import stopwords\n",
    "from bs4 import BeautifulSoup \n",
    "from tensorflow.keras.preprocessing.text import Tokenizer \n",
    "from tensorflow.keras.preprocessing.sequence import pad_sequences\n",
    "import urllib.request"
   ]
  },
  {
   "cell_type": "code",
   "execution_count": 76,
   "metadata": {},
   "outputs": [],
   "source": [
    "urllib.request.urlretrieve(\"https://raw.githubusercontent.com/sunnysai12345/News_Summary/master/news_summary_more.csv\", filename=\"news_summary_more.csv\")\n",
    "data = pd.read_csv('news_summary_more.csv', encoding='iso-8859-1')"
   ]
  },
  {
   "cell_type": "code",
   "execution_count": 77,
   "metadata": {},
   "outputs": [
    {
     "data": {
      "text/html": [
       "<div>\n",
       "<style scoped>\n",
       "    .dataframe tbody tr th:only-of-type {\n",
       "        vertical-align: middle;\n",
       "    }\n",
       "\n",
       "    .dataframe tbody tr th {\n",
       "        vertical-align: top;\n",
       "    }\n",
       "\n",
       "    .dataframe thead th {\n",
       "        text-align: right;\n",
       "    }\n",
       "</style>\n",
       "<table border=\"1\" class=\"dataframe\">\n",
       "  <thead>\n",
       "    <tr style=\"text-align: right;\">\n",
       "      <th></th>\n",
       "      <th>0</th>\n",
       "      <th>1</th>\n",
       "      <th>2</th>\n",
       "      <th>3</th>\n",
       "      <th>4</th>\n",
       "    </tr>\n",
       "  </thead>\n",
       "  <tbody>\n",
       "    <tr>\n",
       "      <th>headlines</th>\n",
       "      <td>upGrad learner switches to career in ML &amp; Al w...</td>\n",
       "      <td>Delhi techie wins free food from Swiggy for on...</td>\n",
       "      <td>New Zealand end Rohit Sharma-led India's 12-ma...</td>\n",
       "      <td>Aegon life iTerm insurance plan helps customer...</td>\n",
       "      <td>Have known Hirani for yrs, what if MeToo claim...</td>\n",
       "    </tr>\n",
       "    <tr>\n",
       "      <th>text</th>\n",
       "      <td>Saurav Kant, an alumnus of upGrad and IIIT-B's...</td>\n",
       "      <td>Kunal Shah's credit card bill payment platform...</td>\n",
       "      <td>New Zealand defeated India by 8 wickets in the...</td>\n",
       "      <td>With Aegon Life iTerm Insurance plan, customer...</td>\n",
       "      <td>Speaking about the sexual harassment allegatio...</td>\n",
       "    </tr>\n",
       "  </tbody>\n",
       "</table>\n",
       "</div>"
      ],
      "text/plain": [
       "                                                           0  \\\n",
       "headlines  upGrad learner switches to career in ML & Al w...   \n",
       "text       Saurav Kant, an alumnus of upGrad and IIIT-B's...   \n",
       "\n",
       "                                                           1  \\\n",
       "headlines  Delhi techie wins free food from Swiggy for on...   \n",
       "text       Kunal Shah's credit card bill payment platform...   \n",
       "\n",
       "                                                           2  \\\n",
       "headlines  New Zealand end Rohit Sharma-led India's 12-ma...   \n",
       "text       New Zealand defeated India by 8 wickets in the...   \n",
       "\n",
       "                                                           3  \\\n",
       "headlines  Aegon life iTerm insurance plan helps customer...   \n",
       "text       With Aegon Life iTerm Insurance plan, customer...   \n",
       "\n",
       "                                                           4  \n",
       "headlines  Have known Hirani for yrs, what if MeToo claim...  \n",
       "text       Speaking about the sexual harassment allegatio...  "
      ]
     },
     "execution_count": 77,
     "metadata": {},
     "output_type": "execute_result"
    }
   ],
   "source": [
    "#데이터 확인\n",
    "data.head().T"
   ]
  },
  {
   "cell_type": "code",
   "execution_count": 78,
   "metadata": {},
   "outputs": [
    {
     "data": {
      "text/html": [
       "<div>\n",
       "<style scoped>\n",
       "    .dataframe tbody tr th:only-of-type {\n",
       "        vertical-align: middle;\n",
       "    }\n",
       "\n",
       "    .dataframe tbody tr th {\n",
       "        vertical-align: top;\n",
       "    }\n",
       "\n",
       "    .dataframe thead th {\n",
       "        text-align: right;\n",
       "    }\n",
       "</style>\n",
       "<table border=\"1\" class=\"dataframe\">\n",
       "  <thead>\n",
       "    <tr style=\"text-align: right;\">\n",
       "      <th></th>\n",
       "      <th>headlines</th>\n",
       "      <th>text</th>\n",
       "    </tr>\n",
       "  </thead>\n",
       "  <tbody>\n",
       "    <tr>\n",
       "      <th>70083</th>\n",
       "      <td>Apple explains why iPhone X's Face ID failed d...</td>\n",
       "      <td>Apple has said iPhone X's Face ID failed to re...</td>\n",
       "    </tr>\n",
       "    <tr>\n",
       "      <th>90274</th>\n",
       "      <td>Jawans get demoralised over negative publicity...</td>\n",
       "      <td>The Delhi High Court has said that when issues...</td>\n",
       "    </tr>\n",
       "    <tr>\n",
       "      <th>14374</th>\n",
       "      <td>Peter Higgs won Nobel Prize 49 years after pre...</td>\n",
       "      <td>English physicist Peter Higgs in a 1964 paper ...</td>\n",
       "    </tr>\n",
       "    <tr>\n",
       "      <th>62127</th>\n",
       "      <td>I start lots of books but finish few of them: ...</td>\n",
       "      <td>Microsoft's India-born CEO Satya Nadella, whil...</td>\n",
       "    </tr>\n",
       "    <tr>\n",
       "      <th>85069</th>\n",
       "      <td>Site promises to track phones, intercept texts...</td>\n",
       "      <td>Online platform Tor Hidden Service offers acce...</td>\n",
       "    </tr>\n",
       "    <tr>\n",
       "      <th>63559</th>\n",
       "      <td>New engineering syllabus to include bullet tra...</td>\n",
       "      <td>The All India Council for Technical Education ...</td>\n",
       "    </tr>\n",
       "    <tr>\n",
       "      <th>30405</th>\n",
       "      <td>Swedish mom changes son's name after wrong nam...</td>\n",
       "      <td>Johanna Giselhall Sandstrom, a 30-year-old mot...</td>\n",
       "    </tr>\n",
       "    <tr>\n",
       "      <th>64610</th>\n",
       "      <td>Army plans to deploy women officers for cyber ...</td>\n",
       "      <td>The Indian Army has announced plans to deploy ...</td>\n",
       "    </tr>\n",
       "    <tr>\n",
       "      <th>82483</th>\n",
       "      <td>Modi leaves stage with Star Wars' villain them...</td>\n",
       "      <td>PM Narendra Modi left the stage after his spee...</td>\n",
       "    </tr>\n",
       "    <tr>\n",
       "      <th>92384</th>\n",
       "      <td>World Bank to give $37.5 cr for National Water...</td>\n",
       "      <td>The World Bank has approved $37.5 crore loan f...</td>\n",
       "    </tr>\n",
       "  </tbody>\n",
       "</table>\n",
       "</div>"
      ],
      "text/plain": [
       "                                               headlines  \\\n",
       "70083  Apple explains why iPhone X's Face ID failed d...   \n",
       "90274  Jawans get demoralised over negative publicity...   \n",
       "14374  Peter Higgs won Nobel Prize 49 years after pre...   \n",
       "62127  I start lots of books but finish few of them: ...   \n",
       "85069  Site promises to track phones, intercept texts...   \n",
       "63559  New engineering syllabus to include bullet tra...   \n",
       "30405  Swedish mom changes son's name after wrong nam...   \n",
       "64610  Army plans to deploy women officers for cyber ...   \n",
       "82483  Modi leaves stage with Star Wars' villain them...   \n",
       "92384  World Bank to give $37.5 cr for National Water...   \n",
       "\n",
       "                                                    text  \n",
       "70083  Apple has said iPhone X's Face ID failed to re...  \n",
       "90274  The Delhi High Court has said that when issues...  \n",
       "14374  English physicist Peter Higgs in a 1964 paper ...  \n",
       "62127  Microsoft's India-born CEO Satya Nadella, whil...  \n",
       "85069  Online platform Tor Hidden Service offers acce...  \n",
       "63559  The All India Council for Technical Education ...  \n",
       "30405  Johanna Giselhall Sandstrom, a 30-year-old mot...  \n",
       "64610  The Indian Army has announced plans to deploy ...  \n",
       "82483  PM Narendra Modi left the stage after his spee...  \n",
       "92384  The World Bank has approved $37.5 crore loan f...  "
      ]
     },
     "execution_count": 78,
     "metadata": {},
     "output_type": "execute_result"
    }
   ],
   "source": [
    "#랜덤 샘플 출력\n",
    "data.sample(10)"
   ]
  },
  {
   "cell_type": "markdown",
   "metadata": {},
   "source": [
    "### 2. 데이터 전처리하기 (추상적 요약)"
   ]
  },
  {
   "cell_type": "code",
   "execution_count": 79,
   "metadata": {},
   "outputs": [
    {
     "name": "stdout",
     "output_type": "stream",
     "text": [
      "text 열에서 중복을 배제한 유일한 샘플의 수 : 98360\n",
      "text 열에서 중복을 포함한  샘플의 수 : (98401,)\n",
      "headlines 열에서 중복을 배제한 유일한 샘플의 수 : 98280\n",
      "headlines 열에서 중복을 포함한  샘플의 수 : (98401,)\n",
      "전처리 전 전체 샘플수 : 98401\n"
     ]
    }
   ],
   "source": [
    "#중복 샘플과 결측치가 있는 샘플 제거\n",
    "print('text 열에서 중복을 배제한 유일한 샘플의 수 :', data['text'].nunique())\n",
    "print('text 열에서 중복을 포함한  샘플의 수 :',data['text'].shape)\n",
    "print('headlines 열에서 중복을 배제한 유일한 샘플의 수 :', data['headlines'].nunique())\n",
    "print('headlines 열에서 중복을 포함한  샘플의 수 :',data['headlines'].shape)\n",
    "print('전처리 전 전체 샘플수 :',(len(data)))"
   ]
  },
  {
   "cell_type": "code",
   "execution_count": 80,
   "metadata": {},
   "outputs": [
    {
     "name": "stdout",
     "output_type": "stream",
     "text": [
      "전체 샘플수 : 98262\n"
     ]
    }
   ],
   "source": [
    "#중복값 제거\n",
    "data2 = data.copy()\n",
    "data2.drop_duplicates(subset = ['text'], inplace = True)\n",
    "data2.drop_duplicates(subset = ['headlines'], inplace = True)\n",
    "print('전체 샘플수 :',(len(data2)))"
   ]
  },
  {
   "cell_type": "code",
   "execution_count": 81,
   "metadata": {},
   "outputs": [
    {
     "name": "stdout",
     "output_type": "stream",
     "text": [
      "headlines    0\n",
      "text         0\n",
      "dtype: int64\n"
     ]
    }
   ],
   "source": [
    "print(data2.isnull().sum()) #null값 확인"
   ]
  },
  {
   "cell_type": "markdown",
   "metadata": {},
   "source": [
    "### 텍스트 정규화와 불용어 제거\n"
   ]
  },
  {
   "cell_type": "code",
   "execution_count": 82,
   "metadata": {},
   "outputs": [
    {
     "name": "stdout",
     "output_type": "stream",
     "text": [
      "정규화 사전의 수:  120\n"
     ]
    }
   ],
   "source": [
    "contractions = {\"ain't\": \"is not\", \"aren't\": \"are not\",\"can't\": \"cannot\", \"'cause\": \"because\", \"could've\": \"could have\", \"couldn't\": \"could not\",\n",
    "                           \"didn't\": \"did not\",  \"doesn't\": \"does not\", \"don't\": \"do not\", \"hadn't\": \"had not\", \"hasn't\": \"has not\", \"haven't\": \"have not\",\n",
    "                           \"he'd\": \"he would\",\"he'll\": \"he will\", \"he's\": \"he is\", \"how'd\": \"how did\", \"how'd'y\": \"how do you\", \"how'll\": \"how will\", \"how's\": \"how is\",\n",
    "                           \"I'd\": \"I would\", \"I'd've\": \"I would have\", \"I'll\": \"I will\", \"I'll've\": \"I will have\",\"I'm\": \"I am\", \"I've\": \"I have\", \"i'd\": \"i would\",\n",
    "                           \"i'd've\": \"i would have\", \"i'll\": \"i will\",  \"i'll've\": \"i will have\",\"i'm\": \"i am\", \"i've\": \"i have\", \"isn't\": \"is not\", \"it'd\": \"it would\",\n",
    "                           \"it'd've\": \"it would have\", \"it'll\": \"it will\", \"it'll've\": \"it will have\",\"it's\": \"it is\", \"let's\": \"let us\", \"ma'am\": \"madam\",\n",
    "                           \"mayn't\": \"may not\", \"might've\": \"might have\",\"mightn't\": \"might not\",\"mightn't've\": \"might not have\", \"must've\": \"must have\",\n",
    "                           \"mustn't\": \"must not\", \"mustn't've\": \"must not have\", \"needn't\": \"need not\", \"needn't've\": \"need not have\",\"o'clock\": \"of the clock\",\n",
    "                           \"oughtn't\": \"ought not\", \"oughtn't've\": \"ought not have\", \"shan't\": \"shall not\", \"sha'n't\": \"shall not\", \"shan't've\": \"shall not have\",\n",
    "                           \"she'd\": \"she would\", \"she'd've\": \"she would have\", \"she'll\": \"she will\", \"she'll've\": \"she will have\", \"she's\": \"she is\",\n",
    "                           \"should've\": \"should have\", \"shouldn't\": \"should not\", \"shouldn't've\": \"should not have\", \"so've\": \"so have\",\"so's\": \"so as\",\n",
    "                           \"this's\": \"this is\",\"that'd\": \"that would\", \"that'd've\": \"that would have\", \"that's\": \"that is\", \"there'd\": \"there would\",\n",
    "                           \"there'd've\": \"there would have\", \"there's\": \"there is\", \"here's\": \"here is\",\"they'd\": \"they would\", \"they'd've\": \"they would have\",\n",
    "                           \"they'll\": \"they will\", \"they'll've\": \"they will have\", \"they're\": \"they are\", \"they've\": \"they have\", \"to've\": \"to have\",\n",
    "                           \"wasn't\": \"was not\", \"we'd\": \"we would\", \"we'd've\": \"we would have\", \"we'll\": \"we will\", \"we'll've\": \"we will have\", \"we're\": \"we are\",\n",
    "                           \"we've\": \"we have\", \"weren't\": \"were not\", \"what'll\": \"what will\", \"what'll've\": \"what will have\", \"what're\": \"what are\",\n",
    "                           \"what's\": \"what is\", \"what've\": \"what have\", \"when's\": \"when is\", \"when've\": \"when have\", \"where'd\": \"where did\", \"where's\": \"where is\",\n",
    "                           \"where've\": \"where have\", \"who'll\": \"who will\", \"who'll've\": \"who will have\", \"who's\": \"who is\", \"who've\": \"who have\",\n",
    "                           \"why's\": \"why is\", \"why've\": \"why have\", \"will've\": \"will have\", \"won't\": \"will not\", \"won't've\": \"will not have\",\n",
    "                           \"would've\": \"would have\", \"wouldn't\": \"would not\", \"wouldn't've\": \"would not have\", \"y'all\": \"you all\",\n",
    "                           \"y'all'd\": \"you all would\",\"y'all'd've\": \"you all would have\",\"y'all're\": \"you all are\",\"y'all've\": \"you all have\",\n",
    "                           \"you'd\": \"you would\", \"you'd've\": \"you would have\", \"you'll\": \"you will\", \"you'll've\": \"you will have\",\n",
    "                           \"you're\": \"you are\", \"you've\": \"you have\"}\n",
    "\n",
    "print(\"정규화 사전의 수: \",len(contractions))"
   ]
  },
  {
   "cell_type": "code",
   "execution_count": 83,
   "metadata": {},
   "outputs": [
    {
     "name": "stdout",
     "output_type": "stream",
     "text": [
      "불용어 개수 : 179\n",
      "['i', 'me', 'my', 'myself', 'we', 'our', 'ours', 'ourselves', 'you', \"you're\", \"you've\", \"you'll\", \"you'd\", 'your', 'yours', 'yourself', 'yourselves', 'he', 'him', 'his', 'himself', 'she', \"she's\", 'her', 'hers', 'herself', 'it', \"it's\", 'its', 'itself', 'they', 'them', 'their', 'theirs', 'themselves', 'what', 'which', 'who', 'whom', 'this', 'that', \"that'll\", 'these', 'those', 'am', 'is', 'are', 'was', 'were', 'be', 'been', 'being', 'have', 'has', 'had', 'having', 'do', 'does', 'did', 'doing', 'a', 'an', 'the', 'and', 'but', 'if', 'or', 'because', 'as', 'until', 'while', 'of', 'at', 'by', 'for', 'with', 'about', 'against', 'between', 'into', 'through', 'during', 'before', 'after', 'above', 'below', 'to', 'from', 'up', 'down', 'in', 'out', 'on', 'off', 'over', 'under', 'again', 'further', 'then', 'once', 'here', 'there', 'when', 'where', 'why', 'how', 'all', 'any', 'both', 'each', 'few', 'more', 'most', 'other', 'some', 'such', 'no', 'nor', 'not', 'only', 'own', 'same', 'so', 'than', 'too', 'very', 's', 't', 'can', 'will', 'just', 'don', \"don't\", 'should', \"should've\", 'now', 'd', 'll', 'm', 'o', 're', 've', 'y', 'ain', 'aren', \"aren't\", 'couldn', \"couldn't\", 'didn', \"didn't\", 'doesn', \"doesn't\", 'hadn', \"hadn't\", 'hasn', \"hasn't\", 'haven', \"haven't\", 'isn', \"isn't\", 'ma', 'mightn', \"mightn't\", 'mustn', \"mustn't\", 'needn', \"needn't\", 'shan', \"shan't\", 'shouldn', \"shouldn't\", 'wasn', \"wasn't\", 'weren', \"weren't\", 'won', \"won't\", 'wouldn', \"wouldn't\"]\n"
     ]
    }
   ],
   "source": [
    "print('불용어 개수 :', len(stopwords.words('english') ))\n",
    "print(stopwords.words('english'))"
   ]
  },
  {
   "cell_type": "code",
   "execution_count": 84,
   "metadata": {},
   "outputs": [
    {
     "name": "stdout",
     "output_type": "stream",
     "text": [
      "done\n"
     ]
    }
   ],
   "source": [
    "#데이터 전처리 함수\n",
    "def preprocess_sentence(sentence, remove_stopwords=True):\n",
    "    sentence = sentence.lower() # 텍스트 소문자화\n",
    "    sentence = BeautifulSoup(sentence, \"lxml\").text # <br />, <a href = ...> 등의 html 태그 제거\n",
    "    sentence = re.sub(r'\\([^)]*\\)', '', sentence) # 괄호로 닫힌 문자열 (...) 제거 Ex) my husband (and myself!) for => my husband for\n",
    "    sentence = re.sub('\"','', sentence) # 쌍따옴표 \" 제거\n",
    "    sentence = ' '.join([contractions[t] if t in contractions else t for t in sentence.split(\" \")]) # 약어 정규화\n",
    "    sentence = re.sub(r\"'s\\b\",\"\",sentence) # 소유격 제거. Ex) roland's -> roland\n",
    "    sentence = re.sub(\"[^a-zA-Z]\", \" \", sentence) # 영어 외 문자(숫자, 특수문자 등) 공백으로 변환\n",
    "    sentence = re.sub('[m]{2,}', 'mm', sentence) # m이 3개 이상이면 2개로 변경. Ex) ummmmmmm yeah -> umm yeah\n",
    "    \n",
    "    # 불용어 제거 (Text)\n",
    "    if remove_stopwords:\n",
    "        tokens = ' '.join(word for word in sentence.split() if not word in stopwords.words('english') if len(word) > 1)\n",
    "    # 불용어 미제거 (Summary)\n",
    "    else:\n",
    "        tokens = ' '.join(word for word in sentence.split() if len(word) > 1)\n",
    "    return tokens\n",
    "print('done')\n"
   ]
  },
  {
   "cell_type": "code",
   "execution_count": 85,
   "metadata": {},
   "outputs": [
    {
     "name": "stdout",
     "output_type": "stream",
     "text": [
      "Requirement already satisfied: lxml in /home/aiffel/anaconda3/envs/aiffel/lib/python3.8/site-packages (4.6.1)\r\n"
     ]
    }
   ],
   "source": [
    "!  pip install lxml"
   ]
  },
  {
   "cell_type": "code",
   "execution_count": 86,
   "metadata": {},
   "outputs": [
    {
     "name": "stdout",
     "output_type": "stream",
     "text": [
      "everything bought great infact ordered twice third ordered wasfor mother father\n",
      "great way to start the day\n"
     ]
    }
   ],
   "source": [
    "# 불용어 전처리 함수 테스트\n",
    "temp_text = 'Everything I bought was great, infact I ordered twice and the third ordered was<br />for my mother and father.'\n",
    "temp_summary = 'Great way to start (or finish) the day!!!'\n",
    "\n",
    "print(preprocess_sentence(temp_text))\n",
    "print(preprocess_sentence(temp_summary, False))  # 불용어를 제거하지 않습니다.\n"
   ]
  },
  {
   "cell_type": "markdown",
   "metadata": {},
   "source": [
    "### 전처리 함수 적용"
   ]
  },
  {
   "cell_type": "code",
   "execution_count": 87,
   "metadata": {},
   "outputs": [
    {
     "data": {
      "text/plain": [
       "['saurav kant alumnus upgrad iiit pg program machine learning artificial intelligence sr systems engineer infosys almost years work experience program upgrad degree career support helped transition data scientist tech mahindra salary hike upgrad online power learning powered lakh careers',\n",
       " 'kunal shah credit card bill payment platform cred gave users chance win free food swiggy one year pranav kaushik delhi techie bagged reward spending cred coins users get one cred coin per rupee bill paid used avail rewards brands like ixigo bookmyshow ubereats cult fit',\n",
       " 'new zealand defeated india wickets fourth odi hamilton thursday win first match five match odi series india lost international match rohit sharma captaincy consecutive victories dating back march match witnessed india getting seventh lowest total odi cricket history',\n",
       " 'aegon life iterm insurance plan customers enjoy tax benefits premiums paid save taxes plan provides life cover age years also customers options insure critical illnesses disability accidental death benefit rider life cover age years',\n",
       " 'speaking sexual harassment allegations rajkumar hirani sonam kapoor said known hirani many years true metoo movement get derailed metoo movement always believe woman case need reserve judgment added hirani accused assistant worked sanju']"
      ]
     },
     "execution_count": 87,
     "metadata": {},
     "output_type": "execute_result"
    }
   ],
   "source": [
    "clean_text = []\n",
    "\n",
    "# 전체 text 데이터에 대한 전처리 : 10분 이상 시간이 걸릴 수 있습니다. \n",
    "for s in data2['text']:\n",
    "    clean_text.append(preprocess_sentence(s))\n",
    "\n",
    "# 전처리 후 출력\n",
    "clean_text[:5]"
   ]
  },
  {
   "cell_type": "code",
   "execution_count": 88,
   "metadata": {},
   "outputs": [
    {
     "data": {
      "text/plain": [
       "['upgrad learner switches career ml al salary hike',\n",
       " 'delhi techie wins free food swiggy one year cred',\n",
       " 'new zealand end rohit sharma led india match winning streak',\n",
       " 'aegon life iterm insurance plan helps customers save tax',\n",
       " 'known hirani yrs metoo claims true sonam']"
      ]
     },
     "execution_count": 88,
     "metadata": {},
     "output_type": "execute_result"
    }
   ],
   "source": [
    "clean_headlines = []\n",
    "\n",
    "# 전체 headlines 데이터에 대한 전처리 : 10분 이상 시간이 걸릴 수 있습니다. \n",
    "for s in data2['headlines']:\n",
    "    clean_headlines.append(preprocess_sentence(s))\n",
    "\n",
    "# 전처리 후 출력\n",
    "clean_headlines[:5]"
   ]
  },
  {
   "cell_type": "code",
   "execution_count": 89,
   "metadata": {},
   "outputs": [
    {
     "data": {
      "text/plain": [
       "headlines    0\n",
       "text         0\n",
       "dtype: int64"
      ]
     },
     "execution_count": 89,
     "metadata": {},
     "output_type": "execute_result"
    }
   ],
   "source": [
    "# 비어있는 샘플값이 있는지 체크\n",
    "data2['text'] = clean_text\n",
    "data2['headlines'] = clean_headlines\n",
    "\n",
    "# 빈 값을 Null 값으로 변환\n",
    "data2.replace('', np.nan, inplace=True)\n",
    "data2.isnull().sum()\n"
   ]
  },
  {
   "cell_type": "markdown",
   "metadata": {},
   "source": [
    "### 훈련데이터와 테스트데이터 나누기"
   ]
  },
  {
   "cell_type": "code",
   "execution_count": 90,
   "metadata": {},
   "outputs": [
    {
     "name": "stdout",
     "output_type": "stream",
     "text": [
      "텍스트의 최소 길이 : 1\n",
      "텍스트의 최대 길이 : 60\n",
      "텍스트의 평균 길이 : 35.10029309397326\n",
      "기사제목의 최소 길이 : 1\n",
      "기사제목의 최대 길이 : 13\n",
      "기사제목의 평균 길이 : 7.136787364393153\n"
     ]
    },
    {
     "data": {
      "image/png": "[encoded data removed]",
      "text/plain": [
       "<Figure size 432x288 with 2 Axes>"
      ]
     },
     "metadata": {
      "needs_background": "light"
     },
     "output_type": "display_data"
    },
    {
     "data": {
      "image/png": "[encoded data removed]",
      "text/plain": [
       "<Figure size 432x288 with 1 Axes>"
      ]
     },
     "metadata": {
      "needs_background": "light"
     },
     "output_type": "display_data"
    },
    {
     "data": {
      "image/png": "[encoded data removed]",
      "text/plain": [
       "<Figure size 432x288 with 1 Axes>"
      ]
     },
     "metadata": {
      "needs_background": "light"
     },
     "output_type": "display_data"
    }
   ],
   "source": [
    "#샘플의 최대 길이 지정하기 위한 분포 시각화\n",
    "# 길이 분포 출력\n",
    "import matplotlib.pyplot as plt\n",
    "\n",
    "text_len = [len(s.split()) for s in data2['text']]\n",
    "headlines_len = [len(s.split()) for s in data2['headlines']]\n",
    "\n",
    "print('텍스트의 최소 길이 : {}'.format(np.min(text_len)))\n",
    "print('텍스트의 최대 길이 : {}'.format(np.max(text_len)))\n",
    "print('텍스트의 평균 길이 : {}'.format(np.mean(text_len)))\n",
    "print('기사제목의 최소 길이 : {}'.format(np.min(headlines_len)))\n",
    "print('기사제목의 최대 길이 : {}'.format(np.max(headlines_len)))\n",
    "print('기사제목의 평균 길이 : {}'.format(np.mean(headlines_len)))\n",
    "\n",
    "plt.subplot(1,2,1)\n",
    "plt.boxplot(headlines_len)\n",
    "plt.title('headlines')\n",
    "plt.subplot(1,2,2)\n",
    "plt.boxplot(text_len)\n",
    "plt.title('text')\n",
    "plt.tight_layout()\n",
    "plt.show()\n",
    "\n",
    "plt.title('headlines')\n",
    "plt.hist(headlines_len, bins = 40)\n",
    "plt.xlabel('length of samples')\n",
    "plt.ylabel('number of samples')\n",
    "plt.show()\n",
    "\n",
    "plt.title('text')\n",
    "plt.hist(text_len, bins = 40)\n",
    "plt.xlabel('length of samples')\n",
    "plt.ylabel('number of samples')\n",
    "plt.show()\n",
    "\n"
   ]
  },
  {
   "cell_type": "code",
   "execution_count": 91,
   "metadata": {},
   "outputs": [],
   "source": [
    "text_max_len = 45\n",
    "headlines_max_len = 8"
   ]
  },
  {
   "cell_type": "code",
   "execution_count": 92,
   "metadata": {},
   "outputs": [],
   "source": [
    "def below_threshold_len(max_len, nested_list):\n",
    "  cnt = 0\n",
    "  for s in nested_list:\n",
    "    if(len(s.split()) <= max_len):\n",
    "        cnt = cnt + 1\n",
    "  print('전체 샘플 중 길이가 %s 이하인 샘플의 비율: %s'%(max_len, (cnt / len(nested_list))))"
   ]
  },
  {
   "cell_type": "code",
   "execution_count": 93,
   "metadata": {},
   "outputs": [
    {
     "name": "stdout",
     "output_type": "stream",
     "text": [
      "전체 샘플 중 길이가 45 이하인 샘플의 비율: 0.9967739309193788\n",
      "전체 샘플 중 길이가 8 이하인 샘플의 비율: 0.8925016791842217\n"
     ]
    }
   ],
   "source": [
    "below_threshold_len(text_max_len, data2['text'])\n",
    "below_threshold_len(headlines_max_len,  data2['headlines'])"
   ]
  },
  {
   "cell_type": "code",
   "execution_count": 94,
   "metadata": {},
   "outputs": [
    {
     "name": "stdout",
     "output_type": "stream",
     "text": [
      "전체 샘플수 : 87699\n"
     ]
    }
   ],
   "source": [
    "#임의로 정한 샘플 길이보다 길면 제외하기 (데이터 정제 )\n",
    "data3 = data2[data2['text'].apply(lambda x: len(x.split()) <= text_max_len)]\n",
    "data3 = data2[data2['headlines'].apply(lambda x: len(x.split()) <= headlines_max_len)]\n",
    "print('전체 샘플수 :',(len(data3)))"
   ]
  },
  {
   "cell_type": "markdown",
   "metadata": {},
   "source": [
    "### 시작 토큰과 종료 토큰 추가하기\n"
   ]
  },
  {
   "cell_type": "code",
   "execution_count": 95,
   "metadata": {},
   "outputs": [
    {
     "name": "stderr",
     "output_type": "stream",
     "text": [
      "/home/aiffel/anaconda3/lib/python3.7/site-packages/ipykernel_launcher.py:2: SettingWithCopyWarning: \n",
      "A value is trying to be set on a copy of a slice from a DataFrame.\n",
      "Try using .loc[row_indexer,col_indexer] = value instead\n",
      "\n",
      "See the caveats in the documentation: https://pandas.pydata.org/pandas-docs/stable/user_guide/indexing.html#returning-a-view-versus-a-copy\n",
      "  \n",
      "/home/aiffel/anaconda3/lib/python3.7/site-packages/ipykernel_launcher.py:3: SettingWithCopyWarning: \n",
      "A value is trying to be set on a copy of a slice from a DataFrame.\n",
      "Try using .loc[row_indexer,col_indexer] = value instead\n",
      "\n",
      "See the caveats in the documentation: https://pandas.pydata.org/pandas-docs/stable/user_guide/indexing.html#returning-a-view-versus-a-copy\n",
      "  This is separate from the ipykernel package so we can avoid doing imports until\n"
     ]
    },
    {
     "data": {
      "text/html": [
       "<div>\n",
       "<style scoped>\n",
       "    .dataframe tbody tr th:only-of-type {\n",
       "        vertical-align: middle;\n",
       "    }\n",
       "\n",
       "    .dataframe tbody tr th {\n",
       "        vertical-align: top;\n",
       "    }\n",
       "\n",
       "    .dataframe thead th {\n",
       "        text-align: right;\n",
       "    }\n",
       "</style>\n",
       "<table border=\"1\" class=\"dataframe\">\n",
       "  <thead>\n",
       "    <tr style=\"text-align: right;\">\n",
       "      <th></th>\n",
       "      <th>0</th>\n",
       "      <th>4</th>\n",
       "      <th>6</th>\n",
       "      <th>7</th>\n",
       "      <th>9</th>\n",
       "    </tr>\n",
       "  </thead>\n",
       "  <tbody>\n",
       "    <tr>\n",
       "      <th>headlines</th>\n",
       "      <td>upgrad learner switches career ml al salary hike</td>\n",
       "      <td>known hirani yrs metoo claims true sonam</td>\n",
       "      <td>india get lowest odi total new zealand</td>\n",
       "      <td>govt directs alok verma join work day retirement</td>\n",
       "      <td>cong wins ramgarh bypoll rajasthan takes total...</td>\n",
       "    </tr>\n",
       "    <tr>\n",
       "      <th>text</th>\n",
       "      <td>saurav kant alumnus upgrad iiit pg program mac...</td>\n",
       "      <td>speaking sexual harassment allegations rajkuma...</td>\n",
       "      <td>india recorded lowest odi total new zealand ge...</td>\n",
       "      <td>weeks ex cbi director alok verma told departme...</td>\n",
       "      <td>congress candidate shafia zubair ramgarh assem...</td>\n",
       "    </tr>\n",
       "    <tr>\n",
       "      <th>decoder_input</th>\n",
       "      <td>sostoken upgrad learner switches career ml al ...</td>\n",
       "      <td>sostoken known hirani yrs metoo claims true sonam</td>\n",
       "      <td>sostoken india get lowest odi total new zealand</td>\n",
       "      <td>sostoken govt directs alok verma join work day...</td>\n",
       "      <td>sostoken cong wins ramgarh bypoll rajasthan ta...</td>\n",
       "    </tr>\n",
       "    <tr>\n",
       "      <th>decoder_target</th>\n",
       "      <td>upgrad learner switches career ml al salary hi...</td>\n",
       "      <td>known hirani yrs metoo claims true sonam eostoken</td>\n",
       "      <td>india get lowest odi total new zealand eostoken</td>\n",
       "      <td>govt directs alok verma join work day retireme...</td>\n",
       "      <td>cong wins ramgarh bypoll rajasthan takes total...</td>\n",
       "    </tr>\n",
       "  </tbody>\n",
       "</table>\n",
       "</div>"
      ],
      "text/plain": [
       "                                                                0  \\\n",
       "headlines        upgrad learner switches career ml al salary hike   \n",
       "text            saurav kant alumnus upgrad iiit pg program mac...   \n",
       "decoder_input   sostoken upgrad learner switches career ml al ...   \n",
       "decoder_target  upgrad learner switches career ml al salary hi...   \n",
       "\n",
       "                                                                4  \\\n",
       "headlines                known hirani yrs metoo claims true sonam   \n",
       "text            speaking sexual harassment allegations rajkuma...   \n",
       "decoder_input   sostoken known hirani yrs metoo claims true sonam   \n",
       "decoder_target  known hirani yrs metoo claims true sonam eostoken   \n",
       "\n",
       "                                                                6  \\\n",
       "headlines                  india get lowest odi total new zealand   \n",
       "text            india recorded lowest odi total new zealand ge...   \n",
       "decoder_input     sostoken india get lowest odi total new zealand   \n",
       "decoder_target    india get lowest odi total new zealand eostoken   \n",
       "\n",
       "                                                                7  \\\n",
       "headlines        govt directs alok verma join work day retirement   \n",
       "text            weeks ex cbi director alok verma told departme...   \n",
       "decoder_input   sostoken govt directs alok verma join work day...   \n",
       "decoder_target  govt directs alok verma join work day retireme...   \n",
       "\n",
       "                                                                9  \n",
       "headlines       cong wins ramgarh bypoll rajasthan takes total...  \n",
       "text            congress candidate shafia zubair ramgarh assem...  \n",
       "decoder_input   sostoken cong wins ramgarh bypoll rajasthan ta...  \n",
       "decoder_target  cong wins ramgarh bypoll rajasthan takes total...  "
      ]
     },
     "execution_count": 95,
     "metadata": {},
     "output_type": "execute_result"
    }
   ],
   "source": [
    "#요약 데이터에는 시작 토큰과 종료 토큰을 추가한다.\n",
    "data3['decoder_input'] = data3['headlines'].apply(lambda x : 'sostoken '+ x)\n",
    "data3['decoder_target'] = data3['headlines'].apply(lambda x : x + ' eostoken')\n",
    "data3.head().T"
   ]
  },
  {
   "cell_type": "code",
   "execution_count": 96,
   "metadata": {},
   "outputs": [],
   "source": [
    "encoder_input = np.array(data3['text']) # 인코더의 입력\n",
    "decoder_input = np.array(data3['decoder_input']) # 디코더의 입력\n",
    "decoder_target = np.array(data3['decoder_target']) # 디코더의 레이블"
   ]
  },
  {
   "cell_type": "code",
   "execution_count": 97,
   "metadata": {},
   "outputs": [
    {
     "name": "stdout",
     "output_type": "stream",
     "text": [
      "[43210 87598  4807 ... 36374 64843 75316]\n"
     ]
    }
   ],
   "source": [
    "#직접 코딩하여 훈련데이터 테스트 분리\n",
    "#encoder_input과 크기와 형태가 같은 순서가 섞인 정수 시퀀스 생성\n",
    "indices = np.arange(encoder_input.shape[0])\n",
    "np.random.shuffle(indices)\n",
    "print(indices)"
   ]
  },
  {
   "cell_type": "code",
   "execution_count": 98,
   "metadata": {},
   "outputs": [],
   "source": [
    "encoder_input = encoder_input[indices]\n",
    "decoder_input = decoder_input[indices]\n",
    "decoder_target = decoder_target[indices]"
   ]
  },
  {
   "cell_type": "code",
   "execution_count": 99,
   "metadata": {},
   "outputs": [
    {
     "name": "stdout",
     "output_type": "stream",
     "text": [
      "테스트 데이터의 수 : 17539\n"
     ]
    }
   ],
   "source": [
    "#데이터를 8:2 비율로 훈련/테스트 데이터로 분리\n",
    "n_of_val = int(len(encoder_input)*0.2)\n",
    "print('테스트 데이터의 수 :',n_of_val)"
   ]
  },
  {
   "cell_type": "code",
   "execution_count": 100,
   "metadata": {},
   "outputs": [
    {
     "name": "stdout",
     "output_type": "stream",
     "text": [
      "훈련 데이터의 개수 : 70160\n",
      "훈련 레이블의 개수 : 70160\n",
      "테스트 데이터의 개수 : 17539\n",
      "테스트 레이블의 개수 : 17539\n"
     ]
    }
   ],
   "source": [
    "encoder_input_train = encoder_input[:-n_of_val]\n",
    "decoder_input_train = decoder_input[:-n_of_val]\n",
    "decoder_target_train = decoder_target[:-n_of_val]\n",
    "\n",
    "encoder_input_test = encoder_input[-n_of_val:]\n",
    "decoder_input_test = decoder_input[-n_of_val:]\n",
    "decoder_target_test = decoder_target[-n_of_val:]\n",
    "\n",
    "print('훈련 데이터의 개수 :', len(encoder_input_train))\n",
    "print('훈련 레이블의 개수 :',len(decoder_input_train))\n",
    "print('테스트 데이터의 개수 :',len(encoder_input_test))\n",
    "print('테스트 레이블의 개수 :',len(decoder_input_test))\n"
   ]
  },
  {
   "cell_type": "markdown",
   "metadata": {},
   "source": [
    "### 단어 집합 만들기 및 정수 인코딩"
   ]
  },
  {
   "cell_type": "code",
   "execution_count": 101,
   "metadata": {},
   "outputs": [],
   "source": [
    "src_tokenizer = Tokenizer() # 토크나이저 정의\n",
    "src_tokenizer.fit_on_texts(encoder_input_train) # 입력된 데이터로부터 단어 집합 생성"
   ]
  },
  {
   "cell_type": "code",
   "execution_count": 102,
   "metadata": {},
   "outputs": [
    {
     "name": "stdout",
     "output_type": "stream",
     "text": [
      "단어 집합(vocabulary)의 크기 : 66034\n",
      "등장 빈도가 6번 이하인 희귀 단어의 수: 45044\n",
      "단어 집합에서 희귀 단어를 제외시킬 경우의 단어 집합의 크기 20990\n",
      "단어 집합에서 희귀 단어의 비율: 68.21334464063968\n",
      "전체 등장 빈도에서 희귀 단어 등장 빈도 비율: 3.737717798385882\n"
     ]
    }
   ],
   "source": [
    "threshold = 7\n",
    "total_cnt = len(src_tokenizer.word_index) # 단어의 수\n",
    "rare_cnt = 0 # 등장 빈도수가 threshold보다 작은 단어의 개수를 카운트\n",
    "total_freq = 0 # 훈련 데이터의 전체 단어 빈도수 총 합\n",
    "rare_freq = 0 # 등장 빈도수가 threshold보다 작은 단어의 등장 빈도수의 총 합\n",
    "\n",
    "# 단어와 빈도수의 쌍(pair)을 key와 value로 받는다.\n",
    "for key, value in src_tokenizer.word_counts.items():\n",
    "    total_freq = total_freq + value\n",
    "\n",
    "    # 단어의 등장 빈도수가 threshold보다 작으면\n",
    "    if(value < threshold):\n",
    "        rare_cnt = rare_cnt + 1\n",
    "        rare_freq = rare_freq + value\n",
    "\n",
    "print('단어 집합(vocabulary)의 크기 :',total_cnt)\n",
    "print('등장 빈도가 %s번 이하인 희귀 단어의 수: %s'%(threshold - 1, rare_cnt))\n",
    "print('단어 집합에서 희귀 단어를 제외시킬 경우의 단어 집합의 크기 %s'%(total_cnt - rare_cnt))\n",
    "print(\"단어 집합에서 희귀 단어의 비율:\", (rare_cnt / total_cnt)*100)\n",
    "print(\"전체 등장 빈도에서 희귀 단어 등장 빈도 비율:\", (rare_freq / total_freq)*100)"
   ]
  },
  {
   "cell_type": "code",
   "execution_count": 103,
   "metadata": {},
   "outputs": [],
   "source": [
    "src_vocab = 20000 \n",
    "src_tokenizer = Tokenizer(num_words = src_vocab) # 단어 집합의 크기를 20000으로 제한\n",
    "src_tokenizer.fit_on_texts(encoder_input_train) # 단어 집합 재생성."
   ]
  },
  {
   "cell_type": "code",
   "execution_count": 104,
   "metadata": {},
   "outputs": [
    {
     "name": "stdout",
     "output_type": "stream",
     "text": [
      "[[105, 57, 1, 1156, 1132, 723, 3, 3192, 4107, 105, 48, 753, 3154, 459, 3, 2485, 16568, 428, 1506, 3154, 6395, 48, 3645, 268, 531, 16568, 7348, 753, 2447, 459, 271, 348, 219, 1, 877, 3], [3, 1519, 5733, 2042, 1146, 3476, 11085, 1519, 5733, 2042, 627, 660, 645, 91, 363, 286, 1363, 2198, 35, 45, 883, 168, 5857, 19575, 6643, 6067, 13912, 1180, 5139, 220, 116, 4723, 2757, 1632], [126, 24, 27, 6214, 4724, 139, 4, 15, 538, 309, 7727, 4237, 1, 9396, 1093, 80, 35, 472, 2511, 1647, 222, 240, 1073, 726, 6910, 2212, 4169, 2, 345, 6214, 1127, 443, 1710, 797, 87, 195, 5140]]\n"
     ]
    }
   ],
   "source": [
    "# 텍스트 시퀀스를 정수 시퀀스로 변환\n",
    "encoder_input_train = src_tokenizer.texts_to_sequences(encoder_input_train) \n",
    "encoder_input_test = src_tokenizer.texts_to_sequences(encoder_input_test)\n",
    "\n",
    "#잘 진행되었는지 샘플 출력\n",
    "print(encoder_input_train[:3])"
   ]
  },
  {
   "cell_type": "code",
   "execution_count": 105,
   "metadata": {},
   "outputs": [],
   "source": [
    "tar_tokenizer = Tokenizer()\n",
    "tar_tokenizer.fit_on_texts(decoder_input_train)"
   ]
  },
  {
   "cell_type": "code",
   "execution_count": 106,
   "metadata": {},
   "outputs": [
    {
     "name": "stdout",
     "output_type": "stream",
     "text": [
      "단어 집합(vocabulary)의 크기 : 28509\n",
      "등장 빈도가 5번 이하인 희귀 단어의 수: 18851\n",
      "단어 집합에서 희귀 단어를 제외시킬 경우의 단어 집합의 크기 9658\n",
      "단어 집합에서 희귀 단어의 비율: 66.12297870847802\n",
      "전체 등장 빈도에서 희귀 단어 등장 빈도 비율: 6.537588877969824\n"
     ]
    }
   ],
   "source": [
    "threshold = 6\n",
    "total_cnt = len(tar_tokenizer.word_index) # 단어의 수\n",
    "rare_cnt = 0 # 등장 빈도수가 threshold보다 작은 단어의 개수를 카운트\n",
    "total_freq = 0 # 훈련 데이터의 전체 단어 빈도수 총 합\n",
    "rare_freq = 0 # 등장 빈도수가 threshold보다 작은 단어의 등장 빈도수의 총 합\n",
    "\n",
    "# 단어와 빈도수의 쌍(pair)을 key와 value로 받는다.\n",
    "for key, value in tar_tokenizer.word_counts.items():\n",
    "    total_freq = total_freq + value\n",
    "\n",
    "    # 단어의 등장 빈도수가 threshold보다 작으면\n",
    "    if(value < threshold):\n",
    "        rare_cnt = rare_cnt + 1\n",
    "        rare_freq = rare_freq + value\n",
    "\n",
    "print('단어 집합(vocabulary)의 크기 :',total_cnt)\n",
    "print('등장 빈도가 %s번 이하인 희귀 단어의 수: %s'%(threshold - 1, rare_cnt))\n",
    "print('단어 집합에서 희귀 단어를 제외시킬 경우의 단어 집합의 크기 %s'%(total_cnt - rare_cnt))\n",
    "print(\"단어 집합에서 희귀 단어의 비율:\", (rare_cnt / total_cnt)*100)\n",
    "print(\"전체 등장 빈도에서 희귀 단어 등장 빈도 비율:\", (rare_freq / total_freq)*100)"
   ]
  },
  {
   "cell_type": "code",
   "execution_count": 107,
   "metadata": {},
   "outputs": [
    {
     "name": "stdout",
     "output_type": "stream",
     "text": [
      "input\n",
      "input  [[1, 639, 1089, 3, 629, 2753, 2889, 32], [1, 689, 2470, 870, 3, 946, 5321, 519, 701], [1, 1231, 1446, 212, 244, 62, 2623, 2419], [1, 2624, 1899], [1, 5, 274, 77, 89, 3333, 8]]\n",
      "target\n",
      "decoder  [[639, 1089, 3, 629, 2753, 2889, 32, 2], [689, 2470, 870, 3, 946, 5321, 519, 701, 2], [1231, 1446, 212, 244, 62, 2623, 2419, 2], [2624, 1899, 2], [5, 274, 77, 89, 3333, 8, 2]]\n"
     ]
    }
   ],
   "source": [
    "tar_vocab = 9500\n",
    "tar_tokenizer = Tokenizer(num_words = tar_vocab) \n",
    "tar_tokenizer.fit_on_texts(decoder_input_train)\n",
    "tar_tokenizer.fit_on_texts(decoder_target_train)\n",
    "\n",
    "# 텍스트 시퀀스를 정수 시퀀스로 변환\n",
    "decoder_input_train = tar_tokenizer.texts_to_sequences(decoder_input_train) \n",
    "decoder_target_train = tar_tokenizer.texts_to_sequences(decoder_target_train)\n",
    "decoder_input_test = tar_tokenizer.texts_to_sequences(decoder_input_test)\n",
    "decoder_target_test = tar_tokenizer.texts_to_sequences(decoder_target_test)\n",
    "\n",
    "#잘 변환되었는지 확인\n",
    "print('input')\n",
    "print('input ',decoder_input_train[:5])\n",
    "print('target')\n",
    "print('decoder ',decoder_target_train[:5])"
   ]
  },
  {
   "cell_type": "code",
   "execution_count": 108,
   "metadata": {},
   "outputs": [
    {
     "name": "stdout",
     "output_type": "stream",
     "text": [
      "삭제할 훈련 데이터의 개수 : 2\n",
      "삭제할 테스트 데이터의 개수 : 1\n",
      "훈련 데이터의 개수 : 70158\n",
      "훈련 레이블의 개수 : 70158\n",
      "테스트 데이터의 개수 : 17538\n",
      "테스트 레이블의 개수 : 17538\n"
     ]
    }
   ],
   "source": [
    "drop_train = [index for index, sentence in enumerate(decoder_input_train) if len(sentence) == 1]\n",
    "drop_test = [index for index, sentence in enumerate(decoder_input_test) if len(sentence) == 1]\n",
    "\n",
    "print('삭제할 훈련 데이터의 개수 :',len(drop_train))\n",
    "print('삭제할 테스트 데이터의 개수 :',len(drop_test))\n",
    "\n",
    "encoder_input_train = np.delete(encoder_input_train, drop_train, axis=0)\n",
    "decoder_input_train = np.delete(decoder_input_train, drop_train, axis=0)\n",
    "decoder_target_train = np.delete(decoder_target_train, drop_train, axis=0)\n",
    "\n",
    "encoder_input_test = np.delete(encoder_input_test, drop_test, axis=0)\n",
    "decoder_input_test = np.delete(decoder_input_test, drop_test, axis=0)\n",
    "decoder_target_test = np.delete(decoder_target_test, drop_test, axis=0)\n",
    "\n",
    "print('훈련 데이터의 개수 :', len(encoder_input_train))\n",
    "print('훈련 레이블의 개수 :',len(decoder_input_train))\n",
    "print('테스트 데이터의 개수 :',len(encoder_input_test))\n",
    "print('테스트 레이블의 개수 :',len(decoder_input_test))\n"
   ]
  },
  {
   "cell_type": "markdown",
   "metadata": {},
   "source": [
    "### 패딩하기"
   ]
  },
  {
   "cell_type": "code",
   "execution_count": 109,
   "metadata": {},
   "outputs": [],
   "source": [
    "encoder_input_train = pad_sequences(encoder_input_train, maxlen = text_max_len, padding='post')\n",
    "encoder_input_test = pad_sequences(encoder_input_test, maxlen = text_max_len, padding='post')\n",
    "decoder_input_train = pad_sequences(decoder_input_train, maxlen = headlines_max_len, padding='post')\n",
    "decoder_target_train = pad_sequences(decoder_target_train, maxlen = headlines_max_len, padding='post')\n",
    "decoder_input_test = pad_sequences(decoder_input_test, maxlen = headlines_max_len, padding='post')\n",
    "decoder_target_test = pad_sequences(decoder_target_test, maxlen = headlines_max_len, padding='post')"
   ]
  },
  {
   "cell_type": "markdown",
   "metadata": {},
   "source": [
    "### 기본모델 생성 seq2seq"
   ]
  },
  {
   "cell_type": "code",
   "execution_count": 110,
   "metadata": {},
   "outputs": [
    {
     "name": "stdout",
     "output_type": "stream",
     "text": [
      "WARNING:tensorflow:Layer lstm_6 will not use cuDNN kernel since it doesn't meet the cuDNN kernel criteria. It will use generic GPU kernel as fallback when running on GPU\n",
      "WARNING:tensorflow:Layer lstm_7 will not use cuDNN kernel since it doesn't meet the cuDNN kernel criteria. It will use generic GPU kernel as fallback when running on GPU\n",
      "WARNING:tensorflow:Layer lstm_8 will not use cuDNN kernel since it doesn't meet the cuDNN kernel criteria. It will use generic GPU kernel as fallback when running on GPU\n"
     ]
    }
   ],
   "source": [
    "from tensorflow.keras.layers import Input, LSTM, Embedding, Dense, Concatenate\n",
    "from tensorflow.keras.models import Model\n",
    "from tensorflow.keras.callbacks import EarlyStopping, ModelCheckpoint\n",
    "\n",
    "\n",
    "# 인코더 설계 시작\n",
    "embedding_dim = 128\n",
    "hidden_size = 256\n",
    "\n",
    "# 인코더\n",
    "encoder_inputs = Input(shape=(text_max_len,))\n",
    "\n",
    "# 인코더의 임베딩 층\n",
    "enc_emb = Embedding(src_vocab, embedding_dim)(encoder_inputs)\n",
    "\n",
    "# 인코더의 LSTM 1\n",
    "encoder_lstm1 = LSTM(hidden_size, return_sequences=True, return_state=True ,dropout = 0.4, recurrent_dropout = 0.4)\n",
    "encoder_output1, state_h1, state_c1 = encoder_lstm1(enc_emb)\n",
    "\n",
    "# 인코더의 LSTM 2\n",
    "encoder_lstm2 = LSTM(hidden_size, return_sequences=True, return_state=True, dropout=0.4, recurrent_dropout=0.4)\n",
    "encoder_output2, state_h2, state_c2 = encoder_lstm2(encoder_output1)\n",
    "\n",
    "# 인코더의 LSTM 3\n",
    "encoder_lstm3 = LSTM(hidden_size, return_state=True, return_sequences=True, dropout=0.4, recurrent_dropout=0.4)\n",
    "encoder_outputs, state_h, state_c= encoder_lstm3(encoder_output2)\n"
   ]
  },
  {
   "cell_type": "markdown",
   "metadata": {},
   "source": [
    "### 기본모델의 디코더 설계"
   ]
  },
  {
   "cell_type": "code",
   "execution_count": 111,
   "metadata": {},
   "outputs": [
    {
     "name": "stdout",
     "output_type": "stream",
     "text": [
      "WARNING:tensorflow:Layer lstm_9 will not use cuDNN kernel since it doesn't meet the cuDNN kernel criteria. It will use generic GPU kernel as fallback when running on GPU\n",
      "Model: \"model_4\"\n",
      "__________________________________________________________________________________________________\n",
      "Layer (type)                    Output Shape         Param #     Connected to                     \n",
      "==================================================================================================\n",
      "input_5 (InputLayer)            [(None, 45)]         0                                            \n",
      "__________________________________________________________________________________________________\n",
      "embedding_4 (Embedding)         (None, 45, 128)      2560000     input_5[0][0]                    \n",
      "__________________________________________________________________________________________________\n",
      "lstm_6 (LSTM)                   [(None, 45, 256), (N 394240      embedding_4[0][0]                \n",
      "__________________________________________________________________________________________________\n",
      "input_6 (InputLayer)            [(None, None)]       0                                            \n",
      "__________________________________________________________________________________________________\n",
      "lstm_7 (LSTM)                   [(None, 45, 256), (N 525312      lstm_6[0][0]                     \n",
      "__________________________________________________________________________________________________\n",
      "embedding_5 (Embedding)         (None, None, 128)    1216000     input_6[0][0]                    \n",
      "__________________________________________________________________________________________________\n",
      "lstm_8 (LSTM)                   [(None, 45, 256), (N 525312      lstm_7[0][0]                     \n",
      "__________________________________________________________________________________________________\n",
      "lstm_9 (LSTM)                   [(None, None, 256),  394240      embedding_5[0][0]                \n",
      "                                                                 lstm_8[0][1]                     \n",
      "                                                                 lstm_8[0][2]                     \n",
      "__________________________________________________________________________________________________\n",
      "dense_4 (Dense)                 (None, None, 9500)   2441500     lstm_9[0][0]                     \n",
      "==================================================================================================\n",
      "Total params: 8,056,604\n",
      "Trainable params: 8,056,604\n",
      "Non-trainable params: 0\n",
      "__________________________________________________________________________________________________\n"
     ]
    }
   ],
   "source": [
    "# 디코더 설계\n",
    "\n",
    "decoder_inputs = Input(shape=(None,))\n",
    "\n",
    "# 디코더의 임베딩 층\n",
    "dec_emb_layer = Embedding(tar_vocab, embedding_dim)\n",
    "dec_emb = dec_emb_layer(decoder_inputs)\n",
    "\n",
    "# 디코더의 LSTM\n",
    "decoder_lstm = LSTM(hidden_size, return_sequences = True, return_state = True, dropout = 0.4, recurrent_dropout=0.2)\n",
    "decoder_outputs, _, _ = decoder_lstm(dec_emb, initial_state = [state_h, state_c])\n",
    "\n",
    "# 디코더의 출력층\n",
    "decoder_softmax_layer = Dense(tar_vocab, activation = 'softmax')\n",
    "decoder_softmax_outputs = decoder_softmax_layer(decoder_outputs) \n",
    "\n",
    "# 모델 정의\n",
    "model= Model([encoder_inputs, decoder_inputs], decoder_softmax_outputs)\n",
    "model.summary()"
   ]
  },
  {
   "cell_type": "markdown",
   "metadata": {},
   "source": [
    "### 3. 어텐션 메커니즘 사용하기 (추상적 요약)"
   ]
  },
  {
   "cell_type": "code",
   "execution_count": 112,
   "metadata": {},
   "outputs": [],
   "source": [
    "urllib.request.urlretrieve(\"https://raw.githubusercontent.com/thushv89/attention_keras/master/src/layers/attention.py\", filename=\"attention.py\")\n",
    "from attention import AttentionLayer"
   ]
  },
  {
   "cell_type": "code",
   "execution_count": 113,
   "metadata": {},
   "outputs": [
    {
     "name": "stdout",
     "output_type": "stream",
     "text": [
      "Model: \"model_5\"\n",
      "__________________________________________________________________________________________________\n",
      "Layer (type)                    Output Shape         Param #     Connected to                     \n",
      "==================================================================================================\n",
      "input_5 (InputLayer)            [(None, 45)]         0                                            \n",
      "__________________________________________________________________________________________________\n",
      "embedding_4 (Embedding)         (None, 45, 128)      2560000     input_5[0][0]                    \n",
      "__________________________________________________________________________________________________\n",
      "lstm_6 (LSTM)                   [(None, 45, 256), (N 394240      embedding_4[0][0]                \n",
      "__________________________________________________________________________________________________\n",
      "input_6 (InputLayer)            [(None, None)]       0                                            \n",
      "__________________________________________________________________________________________________\n",
      "lstm_7 (LSTM)                   [(None, 45, 256), (N 525312      lstm_6[0][0]                     \n",
      "__________________________________________________________________________________________________\n",
      "embedding_5 (Embedding)         (None, None, 128)    1216000     input_6[0][0]                    \n",
      "__________________________________________________________________________________________________\n",
      "lstm_8 (LSTM)                   [(None, 45, 256), (N 525312      lstm_7[0][0]                     \n",
      "__________________________________________________________________________________________________\n",
      "lstm_9 (LSTM)                   [(None, None, 256),  394240      embedding_5[0][0]                \n",
      "                                                                 lstm_8[0][1]                     \n",
      "                                                                 lstm_8[0][2]                     \n",
      "__________________________________________________________________________________________________\n",
      "attention_layer (AttentionLayer ((None, None, 256),  131328      lstm_8[0][0]                     \n",
      "                                                                 lstm_9[0][0]                     \n",
      "__________________________________________________________________________________________________\n",
      "concat_layer (Concatenate)      (None, None, 512)    0           lstm_9[0][0]                     \n",
      "                                                                 attention_layer[0][0]            \n",
      "__________________________________________________________________________________________________\n",
      "dense_5 (Dense)                 (None, None, 9500)   4873500     concat_layer[0][0]               \n",
      "==================================================================================================\n",
      "Total params: 10,619,932\n",
      "Trainable params: 10,619,932\n",
      "Non-trainable params: 0\n",
      "__________________________________________________________________________________________________\n"
     ]
    }
   ],
   "source": [
    "# 어텐션 층(어텐션 함수)\n",
    "attn_layer = AttentionLayer(name='attention_layer')\n",
    "# 인코더와 디코더의 모든 time step의 hidden state를 어텐션 층에 전달하고 결과를 리턴\n",
    "attn_out, attn_states = attn_layer([encoder_outputs, decoder_outputs])\n",
    "\n",
    "# 어텐션의 결과와 디코더의 hidden state들을 연결\n",
    "decoder_concat_input = Concatenate(axis = -1, name='concat_layer')([decoder_outputs, attn_out])\n",
    "\n",
    "# 디코더의 출력층\n",
    "decoder_softmax_layer = Dense(tar_vocab, activation='softmax')\n",
    "decoder_softmax_outputs = decoder_softmax_layer(decoder_concat_input)\n",
    "\n",
    "# 모델 정의\n",
    "model = Model([encoder_inputs, decoder_inputs], decoder_softmax_outputs)\n",
    "model.summary()"
   ]
  },
  {
   "cell_type": "markdown",
   "metadata": {},
   "source": [
    "### 모델 훈련"
   ]
  },
  {
   "cell_type": "code",
   "execution_count": 114,
   "metadata": {},
   "outputs": [
    {
     "name": "stdout",
     "output_type": "stream",
     "text": [
      "Epoch 1/50\n",
      "275/275 [==============================] - 98s 355ms/step - loss: 6.5349 - val_loss: 6.1945\n",
      "Epoch 2/50\n",
      "275/275 [==============================] - 91s 331ms/step - loss: 5.9920 - val_loss: 5.8329\n",
      "Epoch 3/50\n",
      "275/275 [==============================] - 92s 336ms/step - loss: 5.6174 - val_loss: 5.5378\n",
      "Epoch 4/50\n",
      "275/275 [==============================] - 92s 336ms/step - loss: 5.3386 - val_loss: 5.3344\n",
      "Epoch 5/50\n",
      "275/275 [==============================] - 92s 335ms/step - loss: 5.0916 - val_loss: 5.1562\n",
      "Epoch 6/50\n",
      "275/275 [==============================] - 94s 342ms/step - loss: 4.8785 - val_loss: 5.0013\n",
      "Epoch 7/50\n",
      "275/275 [==============================] - 91s 332ms/step - loss: 4.6966 - val_loss: 4.9041\n",
      "Epoch 8/50\n",
      "275/275 [==============================] - 93s 337ms/step - loss: 4.5407 - val_loss: 4.8174\n",
      "Epoch 9/50\n",
      "275/275 [==============================] - 92s 334ms/step - loss: 4.4038 - val_loss: 4.7630\n",
      "Epoch 10/50\n",
      "275/275 [==============================] - 91s 332ms/step - loss: 4.2819 - val_loss: 4.6819\n",
      "Epoch 11/50\n",
      "275/275 [==============================] - 92s 333ms/step - loss: 4.1684 - val_loss: 4.6478\n",
      "Epoch 12/50\n",
      "275/275 [==============================] - 91s 333ms/step - loss: 4.0572 - val_loss: 4.5858\n",
      "Epoch 13/50\n",
      "275/275 [==============================] - 92s 333ms/step - loss: 3.9579 - val_loss: 4.5648\n",
      "Epoch 14/50\n",
      "275/275 [==============================] - 92s 333ms/step - loss: 3.8691 - val_loss: 4.5366\n",
      "Epoch 15/50\n",
      "275/275 [==============================] - 91s 331ms/step - loss: 3.7849 - val_loss: 4.5185\n",
      "Epoch 16/50\n",
      "275/275 [==============================] - 91s 332ms/step - loss: 3.7080 - val_loss: 4.4787\n",
      "Epoch 17/50\n",
      "275/275 [==============================] - 92s 333ms/step - loss: 3.6355 - val_loss: 4.4789\n",
      "Epoch 18/50\n",
      "275/275 [==============================] - 92s 333ms/step - loss: 3.5634 - val_loss: 4.4520\n",
      "Epoch 19/50\n",
      "275/275 [==============================] - 92s 333ms/step - loss: 3.4922 - val_loss: 4.4426\n",
      "Epoch 20/50\n",
      "275/275 [==============================] - 94s 342ms/step - loss: 3.4333 - val_loss: 4.4381\n",
      "Epoch 21/50\n",
      "275/275 [==============================] - 92s 334ms/step - loss: 3.3776 - val_loss: 4.4288\n",
      "Epoch 22/50\n",
      "275/275 [==============================] - 92s 335ms/step - loss: 3.3217 - val_loss: 4.4397\n",
      "Epoch 23/50\n",
      "275/275 [==============================] - 92s 335ms/step - loss: 3.2704 - val_loss: 4.4133\n",
      "Epoch 24/50\n",
      "275/275 [==============================] - 94s 342ms/step - loss: 3.2175 - val_loss: 4.4113\n",
      "Epoch 25/50\n",
      "275/275 [==============================] - 104s 379ms/step - loss: 3.1628 - val_loss: 4.4114\n",
      "Epoch 26/50\n",
      "275/275 [==============================] - 100s 363ms/step - loss: 3.1199 - val_loss: 4.4055\n",
      "Epoch 27/50\n",
      "275/275 [==============================] - 100s 364ms/step - loss: 3.0795 - val_loss: 4.4124\n",
      "Epoch 28/50\n",
      "275/275 [==============================] - 100s 364ms/step - loss: 3.0404 - val_loss: 4.3927\n",
      "Epoch 29/50\n",
      "275/275 [==============================] - 100s 365ms/step - loss: 2.9971 - val_loss: 4.4115\n",
      "Epoch 30/50\n",
      "275/275 [==============================] - 100s 362ms/step - loss: 2.9594 - val_loss: 4.4070\n",
      "Epoch 00030: early stopping\n"
     ]
    }
   ],
   "source": [
    "model.compile(optimizer='rmsprop', loss='sparse_categorical_crossentropy')\n",
    "es = EarlyStopping(monitor='val_loss', mode='min', verbose=1, patience = 2)\n",
    "history = model.fit(x = [encoder_input_train, decoder_input_train], y = decoder_target_train, \\\n",
    "          validation_data = ([encoder_input_test, decoder_input_test], decoder_target_test),\n",
    "          batch_size = 256, callbacks=[es], epochs = 50)"
   ]
  },
  {
   "cell_type": "code",
   "execution_count": 116,
   "metadata": {},
   "outputs": [
    {
     "data": {
      "image/png": "[encoded data removed]",
      "text/plain": [
       "<Figure size 432x288 with 1 Axes>"
      ]
     },
     "metadata": {
      "needs_background": "light"
     },
     "output_type": "display_data"
    }
   ],
   "source": [
    "#모델 훈련 시각화\n",
    "plt.plot(history.history['loss'], label='train')\n",
    "plt.plot(history.history['val_loss'], label='test')\n",
    "plt.legend()\n",
    "plt.show()"
   ]
  },
  {
   "cell_type": "markdown",
   "metadata": {},
   "source": [
    "### 4. 실제 결과와 요약문 비교하기 (추상적 요약)"
   ]
  },
  {
   "cell_type": "code",
   "execution_count": 117,
   "metadata": {},
   "outputs": [],
   "source": [
    "src_index_to_word = src_tokenizer.index_word # 원문 단어 집합에서 정수 -> 단어를 얻음\n",
    "tar_word_to_index = tar_tokenizer.word_index # 요약 단어 집합에서 단어 -> 정수를 얻음\n",
    "tar_index_to_word = tar_tokenizer.index_word # 요약 단어 집합에서 정수 -> 단어를 얻음"
   ]
  },
  {
   "cell_type": "code",
   "execution_count": 119,
   "metadata": {},
   "outputs": [],
   "source": [
    "# 인코더 설계\n",
    "encoder_model = Model(inputs=encoder_inputs, outputs=[encoder_outputs, state_h, state_c])\n",
    "\n",
    "# 이전 시점의 상태들을 저장하는 텐서\n",
    "decoder_state_input_h = Input(shape=(hidden_size,))\n",
    "decoder_state_input_c = Input(shape=(hidden_size,))\n",
    "\n",
    "dec_emb2 = dec_emb_layer(decoder_inputs)\n",
    "# 문장의 다음 단어를 예측하기 위해서 초기 상태(initial_state)를 이전 시점의 상태로 사용. 이는 뒤의 함수 decode_sequence()에 구현\n",
    "# 훈련 과정에서와 달리 LSTM의 리턴하는 은닉 상태와 셀 상태인 state_h와 state_c를 버리지 않음.\n",
    "decoder_outputs2, state_h2, state_c2 = decoder_lstm(dec_emb2, initial_state=[decoder_state_input_h, decoder_state_input_c])"
   ]
  },
  {
   "cell_type": "code",
   "execution_count": 120,
   "metadata": {},
   "outputs": [],
   "source": [
    "# 어텐션 함수\n",
    "decoder_hidden_state_input = Input(shape=(text_max_len, hidden_size))\n",
    "attn_out_inf, attn_states_inf = attn_layer([decoder_hidden_state_input, decoder_outputs2])\n",
    "decoder_inf_concat = Concatenate(axis=-1, name='concat')([decoder_outputs2, attn_out_inf])\n",
    "\n",
    "# 디코더의 출력층\n",
    "decoder_outputs2 = decoder_softmax_layer(decoder_inf_concat) \n",
    "\n",
    "# 최종 디코더 모델\n",
    "decoder_model = Model(\n",
    "    [decoder_inputs] + [decoder_hidden_state_input,decoder_state_input_h, decoder_state_input_c],\n",
    "    [decoder_outputs2] + [state_h2, state_c2])\n"
   ]
  },
  {
   "cell_type": "code",
   "execution_count": 125,
   "metadata": {},
   "outputs": [],
   "source": [
    "def decode_sequence(input_seq):\n",
    "    # 입력으로부터 인코더의 상태를 얻음\n",
    "    e_out, e_h, e_c = encoder_model.predict(input_seq)\n",
    "\n",
    "     # <SOS>에 해당하는 토큰 생성\n",
    "    target_seq = np.zeros((1,1))\n",
    "    target_seq[0, 0] = tar_word_to_index['sostoken']\n",
    "\n",
    "    stop_condition = False\n",
    "    decoded_sentence = ''\n",
    "    while not stop_condition: # stop_condition이 True가 될 때까지 루프 반복\n",
    "\n",
    "        output_tokens, h, c = decoder_model.predict([target_seq] + [e_out, e_h, e_c])\n",
    "        sampled_token_index = np.argmax(output_tokens[0, -1, :])\n",
    "        sampled_token = tar_index_to_word[sampled_token_index]\n",
    "\n",
    "        if(sampled_token!='eostoken'):\n",
    "            decoded_sentence += ' '+sampled_token\n",
    "\n",
    "        #  <eos>에 도달하거나 최대 길이를 넘으면 중단.\n",
    "        if (sampled_token == 'eostoken'  or len(decoded_sentence.split()) >= (headlines_max_len-1)):\n",
    "            stop_condition = True\n",
    "\n",
    "        # 길이가 1인 타겟 시퀀스를 업데이트\n",
    "        target_seq = np.zeros((1,1))\n",
    "        target_seq[0, 0] = sampled_token_index\n",
    "\n",
    "        # 상태를 업데이트 합니다.\n",
    "        e_h, e_c = h, c\n",
    "\n",
    "    return decoded_sentence"
   ]
  },
  {
   "cell_type": "code",
   "execution_count": 126,
   "metadata": {},
   "outputs": [],
   "source": [
    "# 원문의 정수 시퀀스를 텍스트 시퀀스로 변환\n",
    "def seq2text(input_seq):\n",
    "    temp=''\n",
    "    for i in input_seq:\n",
    "        if(i!=0):\n",
    "            temp = temp + src_index_to_word[i]+' '\n",
    "    return temp\n",
    "\n",
    "# 요약문의 정수 시퀀스를 텍스트 시퀀스로 변환\n",
    "def seq2summary(input_seq):\n",
    "    temp=''\n",
    "    for i in input_seq:\n",
    "        if((i!=0 and i!=tar_word_to_index['sostoken']) and i!=tar_word_to_index['eostoken']):\n",
    "            temp = temp + tar_index_to_word[i] + ' '\n",
    "    return temp\n"
   ]
  },
  {
   "cell_type": "code",
   "execution_count": 127,
   "metadata": {},
   "outputs": [
    {
     "name": "stdout",
     "output_type": "stream",
     "text": [
      "원문 : akshay kumar said entire career based working new directors responding question working new directors risky proposition akshay added action hero years take risks kind action hero akshay worked debutant directors films like jaan mann ishq \n",
      "실제 요약 : whole career based working new directors akshay \n",
      "예측 요약 :  akshay kumar make akshay kumar\n",
      "\n",
      "\n",
      "원문 : air pollution europe contributed one india worst affected crore people country according study uk based researchers found india north western regions experienced drop rainfall researchers attributed sulphur emissions industrial areas cause acid rains damaging plant growth \n",
      "실제 요약 : pollution europe behind india worst drought study \n",
      "예측 요약 :  india pollution hits study\n",
      "\n",
      "\n",
      "원문 : actor ajay devgn took social media share first look upcoming film baadshaho caption alongside poster read film also stars emraan hashmi ileana cruz vidyut esha gupta directed milan action thriller scheduled release september \n",
      "실제 요약 : ajay devgn shares first look baadshaho \n",
      "예측 요약 :  ajay devgn shares first look baadshaho\n",
      "\n",
      "\n",
      "원문 : windies highest run scorer chris gayle included man squad one india marking return international circuit month gap gayle last international match world final england april match india windies held july \n",
      "실제 요약 : gayle returns wi squad months india \n",
      "예측 요약 :  gayle equals record int cricket\n",
      "\n",
      "\n",
      "원문 : virat kohli smashed th century international cricket captain achieving feat windies first test rajkot friday year old hit hundreds test cricket overall international cricket fifth time kohli hit least seven hundreds calendar year \n",
      "실제 요약 : virat kohli smashes th international century captain \n",
      "예측 요약 :  kohli smashes balls test hundred\n",
      "\n",
      "\n",
      "원문 : infosys co founder nandan nilekani said fortunate missed iim entrance exam looking job walked small company narayana murthy gave one rest public history said stated years spent iit defining period become leader \n",
      "실제 요약 : fortunate missed iim exam infosys nandan nilekani \n",
      "예측 요약 :  class paper needs better former infosys ceo\n",
      "\n",
      "\n",
      "원문 : speaking meeting women self help groups andhra pradesh cm chandrababu naidu friday said misuse mobile phones youth leading increase criminal tendencies urged mothers restrict usage mobile phones children adding excessive use products promotes addiction leads negative results \n",
      "실제 요약 : mobile phone misuse causing criminal andhra cm \n",
      "예측 요약 :  andhra cm seeks electricity bill mobile phones\n",
      "\n",
      "\n",
      "원문 : filmmaker hansal mehta talking late actress sridevi said always regret approach could make movie never another sridevi added hansal said approach film film dedicated finds actor \n",
      "실제 요약 : regret approaching sridevi film hansal mehta \n",
      "예측 요약 :  sridevi sridevi demise\n",
      "\n",
      "\n",
      "원문 : addressing indian economic association conference president ram nath kovind wednesday stopped midway saw volunteers distributing food packets among delegates speech activity led group students getting seats grab packets president kovind asked organisers stop distribution speech \n",
      "실제 요약 : prez kovind stops speech food distribution audience \n",
      "예측 요약 :  prez kovind offers food president\n",
      "\n",
      "\n",
      "원문 : ceo icici bank chanda kochhar named powerful woman india ranked nd world powerful women list forbes ceo hcl enterprise malhotra chairperson biocon kiran mazumdar shaw chairperson hindustan times group actress priyanka chopra indian women featured list \n",
      "실제 요약 : chanda kochhar named powerful woman india forbes \n",
      "예측 요약 :  mukesh ambani becomes top world valuable list\n",
      "\n",
      "\n",
      "원문 : lashkar taiba terrorist ahmad involved abduction murder lt fayaz killed security forces jammu kashmir kulgam saturday police said fayaz reportedly kidnapped militants attending cousin wedding may bullet body found next day jammu kashmir shopian \n",
      "실제 요약 : let terrorist involved army officer murder killed \n",
      "예측 요약 :  mastermind suspected terrorists killed encounter\n",
      "\n",
      "\n",
      "원문 : security firm quick heal enterprise arm discovered advertisement dark net claiming data access indian businesses information priced bitcoins also offering network affected organisations unspecified amount organisations whose services may risk include uidai rbi flipkart among others \n",
      "실제 요약 : indian firms data leaked online sale lakh \n",
      "예측 요약 :  ibm reveals cryptocurrency mining firm hacked\n",
      "\n",
      "\n",
      "원문 : consumer court ordered jet airways pay passenger found button flight meal incident occurred august hemant desai flying business class delhi ahmedabad though jet airways offered settle matter man refused sued airline lakh \n",
      "실제 요약 : jet airways pay passenger button meal \n",
      "예측 요약 :  indigo pilot flight loses seat\n",
      "\n",
      "\n",
      "원문 : women world cup final india england watched women sporting event india data broadcast audience research council india revealed final gained million impressions overtaking ratings pv sindhu olympic silver win million impressions viewership wc final higher rural areas urban \n",
      "실제 요약 : women wc final watched women sports event india \n",
      "예측 요약 :  women team women team world cup\n",
      "\n",
      "\n",
      "원문 : banaras hindu university vice chancellor girish chandra tripathi monday went indefinite leave citing personal reasons university received application confirmed indefinite leave human resource development minister prakash javadekar said comes tripathi recently said would resign asked go leave violence bhu campus \n",
      "실제 요약 : bhu vice chancellor goes indefinite leave \n",
      "예측 요약 :  bhu body bhu campus bhu campus\n",
      "\n",
      "\n",
      "원문 : class boy arrested murder junior vadodara stabbed knife times seconds investigation revealed accused committed murder wanted shut school scolded homework police said victim could student police added \n",
      "실제 요약 : class boy stabbed junior times sec vadodara \n",
      "예측 요약 :  teen stabbed life argument argument\n",
      "\n",
      "\n",
      "원문 : delhi government banned picking commuters buses exit gates bus terminals across capital fine imposed bus drivers found violating ban practice led congestion buses besides causing pollution due running engines officials said \n",
      "실제 요약 : delhi bans picking commuters buses exits \n",
      "예측 요약 :  delhi ban driving buses\n",
      "\n",
      "\n",
      "원문 : maratha samaj umbrella body maratha groups called bandh today across maharashtra demand maratha reservation protestors demanding quota government jobs education people maratha community however navi mumbai exempted bandh witnessed large scale violence protests last month \n",
      "실제 요약 : maratha groups called maharashtra bandh today \n",
      "예측 요약 :  odisha farmers demand hunger strike\n",
      "\n",
      "\n",
      "원문 : nepal fm radio station based side border airing samajwadi party poll campaign districts bordering nepal approached nepal fm radio picked content youtube senior sp leader claimed campaign flags accomplishments previous akhilesh yadav government \n",
      "실제 요약 : nepal fm radio samajwadi party poll campaign \n",
      "예측 요약 :  navy rescues army chief\n",
      "\n",
      "\n",
      "원문 : least six people reported injured saturday italy city gunman opened fire african migrants moving car describing shootings racially motivated mayor said incident believed connected killing italian woman nigerian arrested \n",
      "실제 요약 : african migrants injured drive shooting italy \n",
      "예측 요약 :  injured injured shooting california california\n",
      "\n",
      "\n",
      "원문 : infosys interim ceo ub pravin rao said company addition around recruits expects similar kind next years rao said infosys recruiting people next years us notably us accounted infosys revenue june quarter \n",
      "실제 요약 : infosys hire engineers annually next years \n",
      "예측 요약 :  infosys ceo infosys board chairman\n",
      "\n",
      "\n",
      "원문 : bjp filed complaint election commission claiming congress president rahul gandhi violated election codes giving interview last hours campaigning gujarat interview aired wednesday local tv channel gujarat chief electoral officer elections bb said matter looked \n",
      "실제 요약 : bjp alleges rahul violated poll code giving interview \n",
      "예측 요약 :  rahul gandhi bjp rajya sabha elections\n",
      "\n",
      "\n",
      "원문 : burning coal linked global warming coal formation million years ago brought earth close snowball like state germany based study reported period several carbon absorbing trees got buried leading coal formation drastically dropping atmospheric co levels global event would occurred co said researchers \n",
      "실제 요약 : coal formation almost turned earth snowball study \n",
      "예측 요약 :  earth biggest mass extinction study\n",
      "\n",
      "\n",
      "원문 : farm loan waiver announced madhya pradesh monday likely cost around crore benefit nearly lakh farmers chief minister kamal nath decided write farmers loans lakh hours taking oath day chhattisgarh chief minister bhupesh announced crore farm loan waiver lakh farmers \n",
      "실제 요약 : madhya pradesh farm loan waivers cost crore \n",
      "예측 요약 :  maharashtra govt waives loans worth crore\n",
      "\n",
      "\n",
      "원문 : brazilian presidential candidate stabbed stomach thursday campaign rally town de far right politician made several controversial comments stabbed carried crowd supporter shoulders suspect arrested believed mentally disturbed authorities said \n",
      "실제 요약 : brazilian presidential candidate stabbed campaign rally \n"
     ]
    },
    {
     "name": "stdout",
     "output_type": "stream",
     "text": [
      "예측 요약 :  man caught camera bomb inside prez\n",
      "\n",
      "\n",
      "원문 : space shuttle columbia carrying seven crew members including india born astronaut kalpana chawla broke upon earth atmosphere february launch th earth orbiting mission piece foam broke struck left wing entry damaged wing allowed gases penetrate breaking orbiter apart killing crew \n",
      "실제 요약 : carrying kalpana chawla crash \n",
      "예측 요약 :  astronaut hits km space mission\n",
      "\n",
      "\n",
      "원문 : us president donald trump wednesday ended policy separating immigrant families us mexico border public uproar like sight feeling families separated trump said children separated family border april may \n",
      "실제 요약 : trump ends policy separating families immigrants \n",
      "예측 요약 :  trump announces us border migrant\n",
      "\n",
      "\n",
      "원문 : bjp mp bhushan sharan singh compared congress president rahul gandhi barking dog rahul gandhi slammed pm narendra modi crore pnb scam saying dogs bark elephant keeps walking prime minister modi serving country whoever wants bark bark said \n",
      "실제 요약 : bjp mp compares rahul gandhi dog \n",
      "예측 요약 :  rahul gandhi bjp mp\n",
      "\n",
      "\n",
      "원문 : actress tabu joined cast salman khan priyanka chopra starrer bharat huge fan tabu work always wished work several meetings happy finally happening bharat said film director ali abbas zafar also starring disha patani bharat scheduled eid release \n",
      "실제 요약 : tabu star salman priyanka bharat \n",
      "예측 요약 :  priyanka play bharat ratna bharat ratna\n",
      "\n",
      "\n",
      "원문 : singer known songs like cheap spotted without los angeles airport way dubai year old singer usually makes public appearances wearing half black half blonde hair never shows face introduced distinctive look videos dancer seen similar \n",
      "실제 요약 : cheap singer spotted without \n",
      "예측 요약 :  singer sings music flight\n",
      "\n",
      "\n",
      "원문 : union minister nitin gadkari clarified statements viral marathi clip shared congress president rahul gandhi allegedly showed saying bjp made false promises elections gadkari clarified statement regarding maharashtra cm devendra fadnavis waived gadkari said mention pm modi lakh show \n",
      "실제 요약 : gadkari clarifies bjp made false promises remark \n",
      "예측 요약 :  gadkari promises rahul gandhi cong\n",
      "\n",
      "\n",
      "원문 : remains german disappeared climbing swiss alps years ago found embedded glacier police officials said remains found two people climbing mountain added recently bodies swiss couple went missing years ago found perfectly preserved alps \n",
      "실제 요약 : german found swiss yrs disappearance \n",
      "예측 요약 :  indonesia zoo zoo homeless zoo\n",
      "\n",
      "\n",
      "원문 : salman khan starrer race leaked facebook less week since release june several facebook users uploading entire film social media networking site film uploaded user named jani reportedly shared people across different groups pages facebook \n",
      "실제 요약 : salman khan race leaked facebook days release \n",
      "예측 요약 :  salman khan trolled using rajinikanth\n",
      "\n",
      "\n",
      "원문 : month old uk baby charlie whose parents fought five month long legal battle doctors allow taken us treatment denied judges passed away parents dropped legal case american offered treat said late work nn \n",
      "실제 요약 : ill uk baby passes away \n",
      "예측 요약 :  baby baby gives baby us hospital report\n",
      "\n",
      "\n",
      "원문 : huge traces cancer causing chemical found fish goa cm manohar parrikar wednesday banned import fish neighbouring states days added fishing activity would resume august plenty fish would available decision taken measure caution cm said \n",
      "실제 요약 : goa bans fish imports days scare \n",
      "예측 요약 :  goa govt approves ban beef goa\n",
      "\n",
      "\n",
      "원문 : international team astronomers analysing multi planet systems found exoplanets orbiting star tend similar sizes regular orbital like pod however solar system inner planets sized large probably jupiter saturn disrupted system early structure researchers said \n",
      "실제 요약 : star systems ordered solar system study \n",
      "예측 요약 :  astronomers find planets stars stars\n",
      "\n",
      "\n",
      "원문 : google marked children day india space exploration doodle designed doodle google competition winner rahul school student mumbai doodle shows girl using telescope see planets galaxies universe theme competition year inspires \n",
      "실제 요약 : google marks children day space doodle school girl \n",
      "예측 요약 :  google maps india teacher design teacher\n",
      "\n",
      "\n",
      "원문 : tribal couple beaten death assam village hours wednesday suspicion black magic police arrested people including females later remanded judicial custody court reportedly one deceased would often locals witchcraft \n",
      "실제 요약 : couple accused witchcraft beaten death assam \n",
      "예측 요약 :  couple beaten death mob assam\n",
      "\n",
      "\n",
      "원문 : amid prevailing drought state residents karnataka district flushed water lake breaking wall superstition villagers claimed heard rumours divine voice instructing empty lake please angry deity \n",
      "실제 요약 : taka village lake amid drought please \n",
      "예측 요약 :  andhra pradesh lake build lake\n",
      "\n",
      "\n",
      "원문 : three women arrested allegedly assaulting attempting uber driver kerala kochi women opted cab sharing instead demanded driver evict male passenger already seated driver refused allegedly beat one attempted remove dhoti \n",
      "실제 요약 : women arrested assaulting trying strip uber driver \n",
      "예측 요약 :  doctor arrested woman post bus driver\n",
      "\n",
      "\n",
      "원문 : baba ramdev promoted patanjali ayurved managing director acharya balkrishna thursday said fdi foreign companies spoil indian culture said indian manufacturers better understanding indian market earlier patanjali said focussing domestic market currently looking international market \n",
      "실제 요약 : foreign firms indian culture patanjali md \n",
      "예측 요약 :  patanjali india patanjali brand md\n",
      "\n",
      "\n",
      "원문 : china consul general tuesday said doklam issue old page country hoping work india turn new page growth development bilateral relations whatever happened bilateral ties two countries little scary consul general added \n",
      "실제 요약 : doklam old page work india china \n",
      "예측 요약 :  china rejects india defence ministry\n",
      "\n",
      "\n",
      "원문 : decomposing body struggling actress chaudhary found apartment mumbai monday police said police believe year old worked kangana ranaut starrer several balaji production tv shows allegedly murdered days ago room found locked outside ac switched \n",
      "실제 요약 : body actress found mumbai murder suspected \n",
      "예측 요약 :  doctor found mumbai hospital body\n",
      "\n",
      "\n",
      "원문 : tehreek hurriyat district president mir tuesday shot dead unidentified gunmen area jammu kashmir anantnag district comes days released statement alleging mir receiving life threats released jail last month serving two year detention \n",
      "실제 요약 : hurriyat leader shot dead jammu kashmir \n",
      "예측 요약 :  former john abraham shot dead\n",
      "\n",
      "\n",
      "원문 : former sweden football team captain zlatan ibrahimovi said yard bicycle kick goal england special remember goal forever relationship english beginning saying talking gave gift life zlatan added \n",
      "실제 요약 : gave england gift life zlatan bicycle kick goal \n",
      "예측 요약 :  makes kick score back back win\n",
      "\n",
      "\n",
      "원문 : india women openers poonam raut sharma set record highest ever odi opening stand came know record whatsapp group poonam revealed informed done post match recovery session two shared stand runs becoming first women pair go past runs \n",
      "실제 요약 : india came know world record whatsapp \n",
      "예측 요약 :  women set record scores international cricket\n",
      "\n",
      "\n",
      "원문 : ex arsenal footballer sanchez shown red card referee mistook player name dissent match england tuesday dean asked name going show yellow card repeatedly replied thought said showed red card instead \n",
      "실제 요약 : player named shown red confuses name \n",
      "예측 요약 :  footballer sent free card referee card\n",
      "\n",
      "\n",
      "원문 : actress kangana ranaut gone topless new poster upcoming film mental hai kya kangana seen wearing holding lighter tongue producer ekta kapoor sharing kangana poster another poster featuring film male lead rajkummar rao tweeted set world fire \n",
      "실제 요약 : kangana seen topless new poster mental hai kya \n",
      "예측 요약 :  kangana ranaut star upcoming film kangana\n",
      "\n",
      "\n",
      "원문 : us congressional investigators found email sent president donald trump deputy chief staff talking arranging meeting campaign officials russian president vladimir putin according cnn report email sent last year time trump son met russians offering damaging information hillary clinton \n",
      "실제 요약 : another email links trump campaign putin reports \n",
      "예측 요약 :  trump putin putin calls white house\n",
      "\n",
      "\n",
      "원문 : minister state personnel jitendra singh thursday said ias officers officers filed immovable property returns officers retired till date two expired per rules officials would denied vigilance clearance fail submit time \n",
      "실제 요약 : ias officers filed asset details government \n"
     ]
    },
    {
     "name": "stdout",
     "output_type": "stream",
     "text": [
      "예측 요약 :  ias officers transferred transferred assam\n",
      "\n",
      "\n"
     ]
    }
   ],
   "source": [
    "for i in range(50, 100):\n",
    "    print(\"원문 :\", seq2text(encoder_input_test[i]))\n",
    "    print(\"실제 요약 :\", seq2summary(decoder_input_test[i]))\n",
    "    print(\"예측 요약 :\", decode_sequence(encoder_input_test[i].reshape(1, text_max_len)))\n",
    "    print(\"\\n\")"
   ]
  },
  {
   "cell_type": "markdown",
   "metadata": {},
   "source": [
    "### 5. Summa을 이용해서 추출적 요약해보기"
   ]
  },
  {
   "cell_type": "code",
   "execution_count": 128,
   "metadata": {},
   "outputs": [
    {
     "name": "stdout",
     "output_type": "stream",
     "text": [
      "Requirement already satisfied: summa in /home/aiffel/anaconda3/envs/aiffel/lib/python3.8/site-packages (1.2.0)\r\n",
      "Requirement already satisfied: scipy>=0.19 in /home/aiffel/anaconda3/envs/aiffel/lib/python3.8/site-packages (from summa) (1.5.2)\r\n",
      "Requirement already satisfied: numpy>=1.14.5 in /home/aiffel/anaconda3/envs/aiffel/lib/python3.8/site-packages (from scipy>=0.19->summa) (1.19.2)\r\n"
     ]
    }
   ],
   "source": [
    "! pip install summa"
   ]
  },
  {
   "cell_type": "code",
   "execution_count": 149,
   "metadata": {},
   "outputs": [],
   "source": [
    "import requests\n",
    "from summa.summarizer import summarize"
   ]
  },
  {
   "cell_type": "code",
   "execution_count": 150,
   "metadata": {},
   "outputs": [
    {
     "data": {
      "text/plain": [
       "0       saurav kant alumnus upgrad iiit pg program mac...\n",
       "4       speaking sexual harassment allegations rajkuma...\n",
       "6       india recorded lowest odi total new zealand ge...\n",
       "7       weeks ex cbi director alok verma told departme...\n",
       "9       congress candidate shafia zubair ramgarh assem...\n",
       "                              ...                        \n",
       "1891    gujarat chief minister vijay rupani wednesday ...\n",
       "1892    black american radio host accused white privil...\n",
       "1893    china expressed strong dissatisfaction canadia...\n",
       "1894    etihad group ceo tony douglas reportedly offer...\n",
       "1895    bank unions including india bank officers conf...\n",
       "Name: text, Length: 1500, dtype: object"
      ]
     },
     "execution_count": 150,
     "metadata": {},
     "output_type": "execute_result"
    }
   ],
   "source": [
    "data3.text[:1500]"
   ]
  },
  {
   "cell_type": "code",
   "execution_count": 169,
   "metadata": {},
   "outputs": [
    {
     "ename": "AttributeError",
     "evalue": "'Series' object has no attribute 'encode'",
     "output_type": "error",
     "traceback": [
      "\u001b[0;31m---------------------------------------------------------------------------\u001b[0m",
      "\u001b[0;31mAttributeError\u001b[0m                            Traceback (most recent call last)",
      "\u001b[0;32m<ipython-input-169-5d4612297755>\u001b[0m in \u001b[0;36m<module>\u001b[0;34m\u001b[0m\n\u001b[1;32m      1\u001b[0m \u001b[0mtest_text\u001b[0m \u001b[0;34m=\u001b[0m \u001b[0mdata3\u001b[0m\u001b[0;34m.\u001b[0m\u001b[0mtext\u001b[0m\u001b[0;34m[\u001b[0m\u001b[0;34m:\u001b[0m\u001b[0;36m1\u001b[0m\u001b[0;34m]\u001b[0m\u001b[0;34m\u001b[0m\u001b[0;34m\u001b[0m\u001b[0m\n\u001b[1;32m      2\u001b[0m \u001b[0mtext\u001b[0m \u001b[0;34m=\u001b[0m \u001b[0mtest_text\u001b[0m\u001b[0;34m.\u001b[0m\u001b[0mastype\u001b[0m\u001b[0;34m(\u001b[0m\u001b[0mstr\u001b[0m\u001b[0;34m)\u001b[0m\u001b[0;34m\u001b[0m\u001b[0;34m\u001b[0m\u001b[0m\n\u001b[0;32m----> 3\u001b[0;31m \u001b[0mtext\u001b[0m \u001b[0;34m=\u001b[0m \u001b[0mtext\u001b[0m\u001b[0;34m.\u001b[0m\u001b[0mencode\u001b[0m\u001b[0;34m(\u001b[0m\u001b[0;34m'utf-8'\u001b[0m\u001b[0;34m)\u001b[0m\u001b[0;34m\u001b[0m\u001b[0;34m\u001b[0m\u001b[0m\n\u001b[0m\u001b[1;32m      4\u001b[0m \u001b[0mtext\u001b[0m\u001b[0;34m\u001b[0m\u001b[0;34m\u001b[0m\u001b[0m\n",
      "\u001b[0;32m~/anaconda3/lib/python3.7/site-packages/pandas/core/generic.py\u001b[0m in \u001b[0;36m__getattr__\u001b[0;34m(self, name)\u001b[0m\n\u001b[1;32m   5272\u001b[0m             \u001b[0;32mif\u001b[0m \u001b[0mself\u001b[0m\u001b[0;34m.\u001b[0m\u001b[0m_info_axis\u001b[0m\u001b[0;34m.\u001b[0m\u001b[0m_can_hold_identifiers_and_holds_name\u001b[0m\u001b[0;34m(\u001b[0m\u001b[0mname\u001b[0m\u001b[0;34m)\u001b[0m\u001b[0;34m:\u001b[0m\u001b[0;34m\u001b[0m\u001b[0;34m\u001b[0m\u001b[0m\n\u001b[1;32m   5273\u001b[0m                 \u001b[0;32mreturn\u001b[0m \u001b[0mself\u001b[0m\u001b[0;34m[\u001b[0m\u001b[0mname\u001b[0m\u001b[0;34m]\u001b[0m\u001b[0;34m\u001b[0m\u001b[0;34m\u001b[0m\u001b[0m\n\u001b[0;32m-> 5274\u001b[0;31m             \u001b[0;32mreturn\u001b[0m \u001b[0mobject\u001b[0m\u001b[0;34m.\u001b[0m\u001b[0m__getattribute__\u001b[0m\u001b[0;34m(\u001b[0m\u001b[0mself\u001b[0m\u001b[0;34m,\u001b[0m \u001b[0mname\u001b[0m\u001b[0;34m)\u001b[0m\u001b[0;34m\u001b[0m\u001b[0;34m\u001b[0m\u001b[0m\n\u001b[0m\u001b[1;32m   5275\u001b[0m \u001b[0;34m\u001b[0m\u001b[0m\n\u001b[1;32m   5276\u001b[0m     \u001b[0;32mdef\u001b[0m \u001b[0m__setattr__\u001b[0m\u001b[0;34m(\u001b[0m\u001b[0mself\u001b[0m\u001b[0;34m,\u001b[0m \u001b[0mname\u001b[0m\u001b[0;34m:\u001b[0m \u001b[0mstr\u001b[0m\u001b[0;34m,\u001b[0m \u001b[0mvalue\u001b[0m\u001b[0;34m)\u001b[0m \u001b[0;34m->\u001b[0m \u001b[0;32mNone\u001b[0m\u001b[0;34m:\u001b[0m\u001b[0;34m\u001b[0m\u001b[0;34m\u001b[0m\u001b[0m\n",
      "\u001b[0;31mAttributeError\u001b[0m: 'Series' object has no attribute 'encode'"
     ]
    }
   ],
   "source": [
    "test_text = data3.text[:1]\n",
    "text = test_text.astype(str)\n",
    "text = text.encode('utf-8')\n",
    "text"
   ]
  },
  {
   "cell_type": "code",
   "execution_count": 167,
   "metadata": {},
   "outputs": [
    {
     "name": "stderr",
     "output_type": "stream",
     "text": [
      "/home/aiffel/anaconda3/lib/python3.7/site-packages/pandas/core/generic.py:5303: SettingWithCopyWarning: \n",
      "A value is trying to be set on a copy of a slice from a DataFrame.\n",
      "Try using .loc[row_indexer,col_indexer] = value instead\n",
      "\n",
      "See the caveats in the documentation: https://pandas.pydata.org/pandas-docs/stable/user_guide/indexing.html#returning-a-view-versus-a-copy\n",
      "  self[name] = value\n"
     ]
    },
    {
     "data": {
      "text/plain": [
       "0        saurav kant alumnus upgrad iiit pg program mac...\n",
       "4        speaking sexual harassment allegations rajkuma...\n",
       "6        india recorded lowest odi total new zealand ge...\n",
       "7        weeks ex cbi director alok verma told departme...\n",
       "9        congress candidate shafia zubair ramgarh assem...\n",
       "                               ...                        \n",
       "98395    pakistan started building nearly kilometer fen...\n",
       "98396    crpf jawan tuesday axed death sharp edged weap...\n",
       "98397    uff yeh first song sonakshi sinha starrer upco...\n",
       "98398    according reports new version science fiction ...\n",
       "98400    madhesi morcha alliance seven political partie...\n",
       "Name: text, Length: 87699, dtype: object"
      ]
     },
     "execution_count": 167,
     "metadata": {},
     "output_type": "execute_result"
    }
   ],
   "source": [
    "#data3.text = data3.text.apply(lambda _: str(_))\n",
    "#data3.text"
   ]
  },
  {
   "cell_type": "code",
   "execution_count": 163,
   "metadata": {},
   "outputs": [
    {
     "name": "stdout",
     "output_type": "stream",
     "text": [
      "text:\n"
     ]
    },
    {
     "ename": "ValueError",
     "evalue": "Text parameter must be a Unicode object (str)!",
     "output_type": "error",
     "traceback": [
      "\u001b[0;31m---------------------------------------------------------------------------\u001b[0m",
      "\u001b[0;31mValueError\u001b[0m                                Traceback (most recent call last)",
      "\u001b[0;32m<ipython-input-163-91b53e0c74cb>\u001b[0m in \u001b[0;36m<module>\u001b[0;34m\u001b[0m\n\u001b[1;32m      1\u001b[0m \u001b[0mprint\u001b[0m\u001b[0;34m(\u001b[0m\u001b[0;34m'text:'\u001b[0m\u001b[0;34m)\u001b[0m\u001b[0;34m\u001b[0m\u001b[0;34m\u001b[0m\u001b[0m\n\u001b[1;32m      2\u001b[0m \u001b[0;31m#print(summarize(data3.text, ratio=0.005))\u001b[0m\u001b[0;34m\u001b[0m\u001b[0;34m\u001b[0m\u001b[0;34m\u001b[0m\u001b[0m\n\u001b[0;32m----> 3\u001b[0;31m \u001b[0mprint\u001b[0m\u001b[0;34m(\u001b[0m\u001b[0msummarize\u001b[0m\u001b[0;34m(\u001b[0m\u001b[0mtext\u001b[0m\u001b[0;34m,\u001b[0m \u001b[0mwords\u001b[0m \u001b[0;34m=\u001b[0m \u001b[0;36m50\u001b[0m\u001b[0;34m,\u001b[0m \u001b[0mratio\u001b[0m\u001b[0;34m=\u001b[0m\u001b[0;36m0.005\u001b[0m\u001b[0;34m,\u001b[0m \u001b[0msplit\u001b[0m\u001b[0;34m=\u001b[0m\u001b[0;32mTrue\u001b[0m\u001b[0;34m)\u001b[0m\u001b[0;34m)\u001b[0m\u001b[0;34m\u001b[0m\u001b[0;34m\u001b[0m\u001b[0m\n\u001b[0m\u001b[1;32m      4\u001b[0m \u001b[0;31m#print(summarize(test_text))\u001b[0m\u001b[0;34m\u001b[0m\u001b[0;34m\u001b[0m\u001b[0;34m\u001b[0m\u001b[0m\n",
      "\u001b[0;32m~/anaconda3/lib/python3.7/site-packages/summa/summarizer.py\u001b[0m in \u001b[0;36msummarize\u001b[0;34m(text, ratio, words, language, split, scores, additional_stopwords)\u001b[0m\n\u001b[1;32m    112\u001b[0m \u001b[0;32mdef\u001b[0m \u001b[0msummarize\u001b[0m\u001b[0;34m(\u001b[0m\u001b[0mtext\u001b[0m\u001b[0;34m,\u001b[0m \u001b[0mratio\u001b[0m\u001b[0;34m=\u001b[0m\u001b[0;36m0.2\u001b[0m\u001b[0;34m,\u001b[0m \u001b[0mwords\u001b[0m\u001b[0;34m=\u001b[0m\u001b[0;32mNone\u001b[0m\u001b[0;34m,\u001b[0m \u001b[0mlanguage\u001b[0m\u001b[0;34m=\u001b[0m\u001b[0;34m\"english\"\u001b[0m\u001b[0;34m,\u001b[0m \u001b[0msplit\u001b[0m\u001b[0;34m=\u001b[0m\u001b[0;32mFalse\u001b[0m\u001b[0;34m,\u001b[0m \u001b[0mscores\u001b[0m\u001b[0;34m=\u001b[0m\u001b[0;32mFalse\u001b[0m\u001b[0;34m,\u001b[0m \u001b[0madditional_stopwords\u001b[0m\u001b[0;34m=\u001b[0m\u001b[0;32mNone\u001b[0m\u001b[0;34m)\u001b[0m\u001b[0;34m:\u001b[0m\u001b[0;34m\u001b[0m\u001b[0;34m\u001b[0m\u001b[0m\n\u001b[1;32m    113\u001b[0m     \u001b[0;32mif\u001b[0m \u001b[0;32mnot\u001b[0m \u001b[0misinstance\u001b[0m\u001b[0;34m(\u001b[0m\u001b[0mtext\u001b[0m\u001b[0;34m,\u001b[0m \u001b[0mstr\u001b[0m\u001b[0;34m)\u001b[0m\u001b[0;34m:\u001b[0m\u001b[0;34m\u001b[0m\u001b[0;34m\u001b[0m\u001b[0m\n\u001b[0;32m--> 114\u001b[0;31m         \u001b[0;32mraise\u001b[0m \u001b[0mValueError\u001b[0m\u001b[0;34m(\u001b[0m\u001b[0;34m\"Text parameter must be a Unicode object (str)!\"\u001b[0m\u001b[0;34m)\u001b[0m\u001b[0;34m\u001b[0m\u001b[0;34m\u001b[0m\u001b[0m\n\u001b[0m\u001b[1;32m    115\u001b[0m \u001b[0;34m\u001b[0m\u001b[0m\n\u001b[1;32m    116\u001b[0m     \u001b[0;31m# Gets a list of processed sentences.\u001b[0m\u001b[0;34m\u001b[0m\u001b[0;34m\u001b[0m\u001b[0;34m\u001b[0m\u001b[0m\n",
      "\u001b[0;31mValueError\u001b[0m: Text parameter must be a Unicode object (str)!"
     ]
    }
   ],
   "source": [
    "print('text:')\n",
    "#print(summarize(data3.text, ratio=0.005))\n",
    "print(summarize(text, words = 50, ratio=0.005, split=True))\n",
    "#print(summarize(test_text))"
   ]
  },
  {
   "cell_type": "code",
   "execution_count": null,
   "metadata": {},
   "outputs": [],
   "source": []
  },
  {
   "cell_type": "markdown",
   "metadata": {},
   "source": [
    "### 회고"
   ]
  },
  {
   "cell_type": "markdown",
   "metadata": {},
   "source": [
    "- 이번 프로젝트에서 **어려웠던 점,**\n",
    "    - 추상적 요약과 추출적 요약의 장단점을 명확하게 인지하기 어려운점과 인코더와 디코더의 관계는 직관적으로 이해할 수 있으나, 훈련데이터와 테스트데이터를 나누는 방법과 실제와 예측을 비교하는 것을 설명하기 어려운것 같습니다. \n",
    "    - summa 사용시 문자열로 기존 데이터 변형이 안되는 점을 해결 하지 못했습니다.\n",
    "- 프로젝트를 진행하면서 **알아낸 점** 혹은 **아직 모호한 점**.\n",
    "    - 언어가 잘 요약되었는지 아닌지, 모델이 잘 학습된것인지 아닌지를 출력된 문장만 보고 판단하기 어려운점이 있습니다. 단지 사람이 읽고 자연스러운지 아닌지를 보고 판단하는것인지 정량적으로 평가하는 지표가 언어생성 영역에서 유의미한지 궁금합니다. \n",
    "- 루브릭 평가 지표를 맞추기 위해 **시도한 것들**.\n",
    "    - 순차적으로 단계별로 풀어서 데이터 전처리와 모델 설계를 진행하였습니다. \n",
    "- 만약에 루브릭 평가 관련 지표를 **달성 하지 못했을 때, 이유에 관한 추정**.\n",
    "    - 추상적 요약과 추출적 요약의 결과를 비교 분석하고 어떤것이 더 좋은 결과를 생성해 냈는지 설명하기에 모델과 과정에 대한 이해가 다소 부족한것 같습니다.\n",
    "- **자기 다짐**\n",
    "    - 언어모델에 대한 이해를 바탕으로 **사람처럼 생각한다는것**은 무엇인가에 대해 좀더 깊이 고민해 보고자 함"
   ]
  },
  {
   "cell_type": "code",
   "execution_count": null,
   "metadata": {},
   "outputs": [],
   "source": []
  }
 ],
 "metadata": {
  "kernelspec": {
   "display_name": "aiffel",
   "language": "python",
   "name": "aiffel"
  },
  "language_info": {
   "codemirror_mode": {
    "name": "ipython",
    "version": 3
   },
   "file_extension": ".py",
   "mimetype": "text/x-python",
   "name": "python",
   "nbconvert_exporter": "python",
   "pygments_lexer": "ipython3",
   "version": "3.7.6"
  }
 },
 "nbformat": 4,
 "nbformat_minor": 4
}

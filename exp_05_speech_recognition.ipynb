{
 "cells": [
  {
   "cell_type": "markdown",
   "metadata": {},
   "source": [
    "#### 노트\n",
    "\n",
    "- 푸리에 변환(Fourier transform)\n",
    "    - 1차원 시계열 데이터로 해석하는 waveform 에서 나아가\n",
    "    - 복합파를 다룰 수 있는 \n",
    "    - 즉, 주파수 대역별로 나누어 별도로 해석해볼 수 있는 방법\n",
    "        - 오일러 공식\n",
    "    - 푸리에 변환 이후\n",
    "        - 복소수 생성\n",
    "            - 복소수의 절대값 = Spectrum magnitude (주파수의 강도)\n",
    "            - 복소수의 Phase = Phase Spectrum (주파수의 위상)\n",
    "                - 실수부\n",
    "                - 허수부\n",
    "                \n",
    "        - STFT(Short Time Fourier Transform)\n",
    "            - 어느 시간대에 주파수가 변하는지 알기 위해 시간의 길이를 나눠서 푸리에 변환\n",
    "            - 즉 시간의 흐름에 따른 프리퀀시 영역별 앰플리튜드를 반환\n",
    "            - **Spectrogram**\n",
    "                - wav 데이터 해석 방법중 하나\n",
    "                - 일정 시간동안 wav 데이터 안의 주파수 분포 시각화\n",
    "                - x 축은 시간 , y 축은 주파수를 나타냄\n",
    "                \n",
    "                \n",
    "            \n",
    " \n",
    "\n",
    "\n",
    "     "
   ]
  },
  {
   "cell_type": "markdown",
   "metadata": {},
   "source": [
    "#### 도전과제\n",
    "- Spectrogram classification 모델 구현\n",
    "    \n",
    "    1.데이터 처리와 분류\n",
    "    - 라벨 데이터 처리하기\n",
    "    - sklearn의 train_test_split함수를 이용하여 train, test 분리\n",
    "    \n",
    "    2.학습을 위한 하이퍼파라미터 설정\n",
    "    \n",
    "    3.데이터셋 구성\n",
    "    - tf.data.Dataset을 이용\n",
    "    - from_tensor_slices 함수에 return 받길 원하는 데이터를 튜플 (data, label) 형태로 넣어서 사용\n",
    "    - map과 batch를 이용한 데이터 전처리\n",
    "    - 주의 : waveform을 spectrogram으로 변환하기 위해 추가로 사용하는 메모리 때문에 이후 메모리 부족 현상을 겪게 될수도 있습니다.\n",
    "    - tf.data.Dataset이 생성된 이후, 아래 예시와 같이 wav 데이터나 spectrogram 데이터를 담아둔 메모리 버퍼를 비워 주면 도움이 됩니다.\n",
    "    \n",
    "    del speech_data\n",
    "    del spec_data\n",
    "    \n",
    "    4.2차원 Spectrogram 데이터를 처리하는 모델 구성\n",
    "    - 2차원 Spectrogram 데이터의 시간축 방향으로 Conv1D layer를 적용, 혹은 Conv2D layer를 적용 가능\n",
    "    - batchnorm, dropout, dense layer 등을 이용\n",
    "    - 12개의 단어 class를 구분하는 loss를 사용하고 Adam optimizer를 사용\n",
    "    - 모델 가중치를 저장하는 checkpoint callback 함수 추가\n",
    "    - 다양한 모델의 실험을 진행해 보시기 바랍니다.\n",
    "    \n",
    "    5.학습 후, 학습이 어떻게 진행됐는지 그래프로 출력\n",
    "    - loss, accuracy를 그래프로 표현\n",
    "    \n",
    "    6.Test dataset을 이용해서 모델의 성능을 평가\n",
    "    - 저장한 weight 불러오기\n",
    "    - 모델의 예측값과 정답값이 얼마나 일치하는지 확인\n",
    "\n"
   ]
  },
  {
   "cell_type": "markdown",
   "metadata": {},
   "source": [
    "#### 라이브러리 설치\n"
   ]
  },
  {
   "cell_type": "code",
   "execution_count": null,
   "metadata": {},
   "outputs": [],
   "source": [
    "# FFT 관련 라이브러리 librosa\n",
    "! pip install librosa "
   ]
  },
  {
   "cell_type": "markdown",
   "metadata": {},
   "source": [
    "#### 데이터 불러오기"
   ]
  },
  {
   "cell_type": "code",
   "execution_count": 7,
   "metadata": {},
   "outputs": [
    {
     "name": "stdout",
     "output_type": "stream",
     "text": [
      "Wave data shape :  (50620, 8000)\n",
      "Label data shape :  (50620, 1)\n"
     ]
    }
   ],
   "source": [
    "import numpy as np\n",
    "import os\n",
    "\n",
    "data_path = os.getenv(\"HOME\")+'/workplace/aiffel/exp_05/data/speech_wav_8000.npz'\n",
    "speech_data = np.load(data_path)\n",
    "\n",
    "#데이터 크기출력\n",
    "print(\"Wave data shape : \", speech_data[\"wav_vals\"].shape)\n",
    "print(\"Label data shape : \", speech_data[\"label_vals\"].shape)\n"
   ]
  },
  {
   "cell_type": "code",
   "execution_count": 8,
   "metadata": {},
   "outputs": [
    {
     "name": "stdout",
     "output_type": "stream",
     "text": [
      "rand num :  38647\n",
      "Wave data shape :  (8000,)\n",
      "label :  ['up']\n"
     ]
    },
    {
     "data": {
      "text/html": [
       "\n",
       "                <audio  controls=\"controls\" >\n",
       "                    <source src=\"data:audio/wav;base64,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\" type=\"audio/wav\" />\n",
       "                    Your browser does not support the audio element.\n",
       "                </audio>\n",
       "              "
      ],
      "text/plain": [
       "<IPython.lib.display.Audio object>"
      ]
     },
     "execution_count": 8,
     "metadata": {},
     "output_type": "execute_result"
    }
   ],
   "source": [
    "# 음성데이터 샘플 출력\n",
    "import IPython.display as ipd\n",
    "import random\n",
    "\n",
    "# 데이터 선택 (랜덤하게 선택)\n",
    "rand = random.randint(0, len(speech_data[\"wav_vals\"]))\n",
    "print(\"rand num : \", rand)\n",
    "\n",
    "sr = 8000 # 1초동안 재생되는 샘플의 갯수\n",
    "data = speech_data[\"wav_vals\"][rand]\n",
    "print(\"Wave data shape : \", data.shape)\n",
    "print(\"label : \", speech_data[\"label_vals\"][rand])\n",
    "\n",
    "ipd.Audio(data, rate=sr)"
   ]
  },
  {
   "cell_type": "markdown",
   "metadata": {},
   "source": [
    "#### 데이터 분리하기"
   ]
  },
  {
   "cell_type": "code",
   "execution_count": 9,
   "metadata": {},
   "outputs": [
    {
     "name": "stdout",
     "output_type": "stream",
     "text": [
      "LABEL :  ['yes', 'no', 'up', 'down', 'left', 'right', 'on', 'off', 'stop', 'go', 'unknown', 'silence']\n",
      "Indexed LABEL :  {'yes': 0, 'no': 1, 'up': 2, 'down': 3, 'left': 4, 'right': 5, 'on': 6, 'off': 7, 'stop': 8, 'go': 9, 'unknown': 10, 'silence': 11}\n"
     ]
    },
    {
     "data": {
      "text/plain": [
       "array([ 3,  3,  3, ..., 11, 11, 11])"
      ]
     },
     "execution_count": 9,
     "metadata": {},
     "output_type": "execute_result"
    }
   ],
   "source": [
    "#라벨 데이터 처리\n",
    "target_list = ['yes', 'no', 'up', 'down', 'left', 'right', 'on', 'off', 'stop', 'go']\n",
    "\n",
    "label_value = target_list\n",
    "label_value.append('unknown')\n",
    "label_value.append('silence')\n",
    "\n",
    "print('LABEL : ', label_value)\n",
    "\n",
    "new_label_value = dict()\n",
    "for i, l in enumerate(label_value):\n",
    "    new_label_value[l] = i\n",
    "label_value = new_label_value\n",
    "\n",
    "print('Indexed LABEL : ', new_label_value)\n",
    "\n",
    "#index 작업으로 라벨데이터 변환\n",
    "temp = []\n",
    "for v in speech_data[\"label_vals\"]:\n",
    "    temp.append(label_value[v[0]])\n",
    "label_data = np.array(temp)\n",
    "\n",
    "label_data"
   ]
  },
  {
   "cell_type": "code",
   "execution_count": 10,
   "metadata": {},
   "outputs": [
    {
     "name": "stdout",
     "output_type": "stream",
     "text": [
      "[[-0.00104365 -0.00086119 -0.00073852 ... -0.00635948 -0.00426746\n",
      "   0.00138562]\n",
      " [ 0.00284221  0.00221396 -0.00015429 ... -0.00519174 -0.00396648\n",
      "  -0.00714448]\n",
      " [ 0.00554282  0.00867072 -0.01323226 ...  0.00274211  0.00139104\n",
      "  -0.00470204]\n",
      " ...\n",
      " [-0.00016631  0.00017196 -0.00014058 ... -0.00017694 -0.00024866\n",
      "  -0.0002089 ]\n",
      " [ 0.00670208  0.01543109  0.01239109 ...  0.01106856  0.00896319\n",
      "   0.00703171]\n",
      " [ 0.00157013  0.0029008   0.00209872 ... -0.00113357 -0.00244829\n",
      "   0.00296195]]\n"
     ]
    }
   ],
   "source": [
    "# 데이터 분리\n",
    "from sklearn.model_selection import train_test_split\n",
    "\n",
    "\n",
    "sr = 8000 # 1초동안 재생되는 샘플의 갯수\n",
    "train_wav, test_wav, train_label, test_label = train_test_split(speech_data[\"wav_vals\"], \n",
    "                                                                label_data, \n",
    "                                                                test_size=0.2,\n",
    "                                                                shuffle=True)\n",
    "print(train_wav)\n",
    "\n",
    "train_wav = train_wav.reshape([-1, sr, 1]) # add channel for CNN\n",
    "test_wav = test_wav.reshape([-1, sr, 1])\n"
   ]
  },
  {
   "cell_type": "code",
   "execution_count": 11,
   "metadata": {},
   "outputs": [
    {
     "name": "stdout",
     "output_type": "stream",
     "text": [
      "train data :  (40496, 8000, 1)\n",
      "train labels :  (40496,)\n",
      "test data :  (10124, 8000, 1)\n",
      "test labels :  (10124,)\n"
     ]
    }
   ],
   "source": [
    "#데이터 분리 확인\n",
    "print(\"train data : \", train_wav.shape)\n",
    "print(\"train labels : \", train_label.shape)\n",
    "print(\"test data : \", test_wav.shape)\n",
    "print(\"test labels : \", test_label.shape)"
   ]
  },
  {
   "cell_type": "markdown",
   "metadata": {},
   "source": [
    "#### 하이퍼 파라미터 세팅"
   ]
  },
  {
   "cell_type": "code",
   "execution_count": 12,
   "metadata": {},
   "outputs": [
    {
     "data": {
      "text/plain": [
       "'/home/aiffel/workplace/aiffel/exp_05/models/wav'"
      ]
     },
     "execution_count": 12,
     "metadata": {},
     "output_type": "execute_result"
    }
   ],
   "source": [
    "batch_size = 16\n",
    "max_epochs = 4\n",
    "\n",
    "# the save point\n",
    "checkpoint_dir = os.getenv('HOME')+'/workplace/aiffel/exp_05/models/wav'\n",
    "\n",
    "checkpoint_dir #체크포인트 경로 확인 "
   ]
  },
  {
   "cell_type": "code",
   "execution_count": 13,
   "metadata": {},
   "outputs": [],
   "source": [
    "#map 함수를 활용한 데이터 전처리 함수 설정\n",
    "def one_hot_label(wav, label):\n",
    "    label = tf.one_hot(label, depth=12)\n",
    "    return wav, label"
   ]
  },
  {
   "cell_type": "code",
   "execution_count": 14,
   "metadata": {},
   "outputs": [
    {
     "name": "stdout",
     "output_type": "stream",
     "text": [
      "<BatchDataset shapes: ((None, 8000, 1), (None, 12)), types: (tf.float32, tf.float32)>\n",
      "<BatchDataset shapes: ((None, 8000, 1), (None, 12)), types: (tf.float32, tf.float32)>\n"
     ]
    }
   ],
   "source": [
    "import tensorflow as tf\n",
    "\n",
    "# 1차원 데이터 분리\n",
    "\n",
    "# for train\n",
    "train_dataset = tf.data.Dataset.from_tensor_slices((train_wav, train_label))\n",
    "train_dataset = train_dataset.map(one_hot_label)\n",
    "train_dataset = train_dataset.repeat().batch(batch_size=batch_size)\n",
    "print(train_dataset)\n",
    "\n",
    "# for test\n",
    "test_dataset = tf.data.Dataset.from_tensor_slices((test_wav, test_label))\n",
    "test_dataset = test_dataset.map(one_hot_label)\n",
    "test_dataset = test_dataset.batch(batch_size=batch_size)\n",
    "print(test_dataset)\n"
   ]
  },
  {
   "cell_type": "code",
   "execution_count": 15,
   "metadata": {},
   "outputs": [
    {
     "ename": "TypeError",
     "evalue": "in user code:\n\n    <ipython-input-15-9f65bf990744>:5 wav2spec  *\n        D = np.abs(librosa.stft(wav, n_fft=fft_size))\n    /home/aiffel/anaconda3/lib/python3.7/site-packages/librosa/core/spectrum.py:208 stft  *\n        fft_window = get_window(window, win_length, fftbins=True)\n    /home/aiffel/anaconda3/lib/python3.7/site-packages/librosa/filters.py:884 get_window  *\n        return scipy.signal.get_window(window, Nx, fftbins=fftbins)\n    /home/aiffel/anaconda3/lib/python3.7/site-packages/scipy/signal/windows/windows.py:2124 get_window  *\n        return winfunc(*params)\n    /home/aiffel/anaconda3/lib/python3.7/site-packages/scipy/signal/windows/windows.py:790 hann  *\n        return general_hamming(M, 0.5, sym)\n    /home/aiffel/anaconda3/lib/python3.7/site-packages/scipy/signal/windows/windows.py:1020 general_hamming  *\n        return general_cosine(M, [alpha, 1. - alpha], sym)\n    /home/aiffel/anaconda3/lib/python3.7/site-packages/scipy/signal/windows/windows.py:112 general_cosine  *\n        if _len_guards(M):\n    /home/aiffel/anaconda3/lib/python3.7/site-packages/scipy/signal/windows/windows.py:21 _len_guards  *\n        if int(M) != M or M < 0:\n    /home/aiffel/anaconda3/lib/python3.7/site-packages/tensorflow/python/ops/math_ops.py:1502 tensor_not_equals\n        return gen_math_ops.not_equal(self, other, incompatible_shape_error=False)\n    /home/aiffel/anaconda3/lib/python3.7/site-packages/tensorflow/python/ops/gen_math_ops.py:6422 not_equal\n        name=name)\n    /home/aiffel/anaconda3/lib/python3.7/site-packages/tensorflow/python/framework/op_def_library.py:506 _apply_op_helper\n        inferred_from[input_arg.type_attr]))\n\n    TypeError: Input 'y' of 'NotEqual' Op has type float32 that does not match type int32 of argument 'x'.\n",
     "output_type": "error",
     "traceback": [
      "\u001b[0;31m---------------------------------------------------------------------------\u001b[0m",
      "\u001b[0;31mTypeError\u001b[0m                                 Traceback (most recent call last)",
      "\u001b[0;32m<ipython-input-15-9f65bf990744>\u001b[0m in \u001b[0;36m<module>\u001b[0;34m\u001b[0m\n\u001b[1;32m      9\u001b[0m \u001b[0;31m# for train\u001b[0m\u001b[0;34m\u001b[0m\u001b[0;34m\u001b[0m\u001b[0;34m\u001b[0m\u001b[0m\n\u001b[1;32m     10\u001b[0m \u001b[0mspec_train_dataset\u001b[0m \u001b[0;34m=\u001b[0m \u001b[0mtf\u001b[0m\u001b[0;34m.\u001b[0m\u001b[0mdata\u001b[0m\u001b[0;34m.\u001b[0m\u001b[0mDataset\u001b[0m\u001b[0;34m.\u001b[0m\u001b[0mfrom_tensor_slices\u001b[0m\u001b[0;34m(\u001b[0m\u001b[0;34m(\u001b[0m\u001b[0mtrain_wav\u001b[0m\u001b[0;34m,\u001b[0m \u001b[0mtrain_label\u001b[0m\u001b[0;34m)\u001b[0m\u001b[0;34m)\u001b[0m\u001b[0;34m\u001b[0m\u001b[0;34m\u001b[0m\u001b[0m\n\u001b[0;32m---> 11\u001b[0;31m \u001b[0mspec_train_dataset\u001b[0m \u001b[0;34m=\u001b[0m \u001b[0mtrain_dataset\u001b[0m\u001b[0;34m.\u001b[0m\u001b[0mmap\u001b[0m\u001b[0;34m(\u001b[0m\u001b[0mwav2spec\u001b[0m\u001b[0;34m)\u001b[0m\u001b[0;34m\u001b[0m\u001b[0;34m\u001b[0m\u001b[0m\n\u001b[0m\u001b[1;32m     12\u001b[0m \u001b[0mspec_train_dataset\u001b[0m \u001b[0;34m=\u001b[0m \u001b[0mtrain_dataset\u001b[0m\u001b[0;34m.\u001b[0m\u001b[0mrepeat\u001b[0m\u001b[0;34m(\u001b[0m\u001b[0;34m)\u001b[0m\u001b[0;34m.\u001b[0m\u001b[0mbatch\u001b[0m\u001b[0;34m(\u001b[0m\u001b[0mbatch_size\u001b[0m\u001b[0;34m=\u001b[0m\u001b[0mbatch_size\u001b[0m\u001b[0;34m)\u001b[0m\u001b[0;34m\u001b[0m\u001b[0;34m\u001b[0m\u001b[0m\n\u001b[1;32m     13\u001b[0m \u001b[0mprint\u001b[0m\u001b[0;34m(\u001b[0m\u001b[0mspec_train_dataset\u001b[0m\u001b[0;34m)\u001b[0m\u001b[0;34m\u001b[0m\u001b[0;34m\u001b[0m\u001b[0m\n",
      "\u001b[0;32m~/anaconda3/lib/python3.7/site-packages/tensorflow/python/data/ops/dataset_ops.py\u001b[0m in \u001b[0;36mmap\u001b[0;34m(self, map_func, num_parallel_calls, deterministic)\u001b[0m\n\u001b[1;32m   1619\u001b[0m     \"\"\"\n\u001b[1;32m   1620\u001b[0m     \u001b[0;32mif\u001b[0m \u001b[0mnum_parallel_calls\u001b[0m \u001b[0;32mis\u001b[0m \u001b[0;32mNone\u001b[0m\u001b[0;34m:\u001b[0m\u001b[0;34m\u001b[0m\u001b[0;34m\u001b[0m\u001b[0m\n\u001b[0;32m-> 1621\u001b[0;31m       \u001b[0;32mreturn\u001b[0m \u001b[0mMapDataset\u001b[0m\u001b[0;34m(\u001b[0m\u001b[0mself\u001b[0m\u001b[0;34m,\u001b[0m \u001b[0mmap_func\u001b[0m\u001b[0;34m,\u001b[0m \u001b[0mpreserve_cardinality\u001b[0m\u001b[0;34m=\u001b[0m\u001b[0;32mTrue\u001b[0m\u001b[0;34m)\u001b[0m\u001b[0;34m\u001b[0m\u001b[0;34m\u001b[0m\u001b[0m\n\u001b[0m\u001b[1;32m   1622\u001b[0m     \u001b[0;32melse\u001b[0m\u001b[0;34m:\u001b[0m\u001b[0;34m\u001b[0m\u001b[0;34m\u001b[0m\u001b[0m\n\u001b[1;32m   1623\u001b[0m       return ParallelMapDataset(\n",
      "\u001b[0;32m~/anaconda3/lib/python3.7/site-packages/tensorflow/python/data/ops/dataset_ops.py\u001b[0m in \u001b[0;36m__init__\u001b[0;34m(self, input_dataset, map_func, use_inter_op_parallelism, preserve_cardinality, use_legacy_function)\u001b[0m\n\u001b[1;32m   3979\u001b[0m         \u001b[0mself\u001b[0m\u001b[0;34m.\u001b[0m\u001b[0m_transformation_name\u001b[0m\u001b[0;34m(\u001b[0m\u001b[0;34m)\u001b[0m\u001b[0;34m,\u001b[0m\u001b[0;34m\u001b[0m\u001b[0;34m\u001b[0m\u001b[0m\n\u001b[1;32m   3980\u001b[0m         \u001b[0mdataset\u001b[0m\u001b[0;34m=\u001b[0m\u001b[0minput_dataset\u001b[0m\u001b[0;34m,\u001b[0m\u001b[0;34m\u001b[0m\u001b[0;34m\u001b[0m\u001b[0m\n\u001b[0;32m-> 3981\u001b[0;31m         use_legacy_function=use_legacy_function)\n\u001b[0m\u001b[1;32m   3982\u001b[0m     variant_tensor = gen_dataset_ops.map_dataset(\n\u001b[1;32m   3983\u001b[0m         \u001b[0minput_dataset\u001b[0m\u001b[0;34m.\u001b[0m\u001b[0m_variant_tensor\u001b[0m\u001b[0;34m,\u001b[0m  \u001b[0;31m# pylint: disable=protected-access\u001b[0m\u001b[0;34m\u001b[0m\u001b[0;34m\u001b[0m\u001b[0m\n",
      "\u001b[0;32m~/anaconda3/lib/python3.7/site-packages/tensorflow/python/data/ops/dataset_ops.py\u001b[0m in \u001b[0;36m__init__\u001b[0;34m(self, func, transformation_name, dataset, input_classes, input_shapes, input_types, input_structure, add_to_graph, use_legacy_function, defun_kwargs)\u001b[0m\n\u001b[1;32m   3219\u001b[0m       \u001b[0;32mwith\u001b[0m \u001b[0mtracking\u001b[0m\u001b[0;34m.\u001b[0m\u001b[0mresource_tracker_scope\u001b[0m\u001b[0;34m(\u001b[0m\u001b[0mresource_tracker\u001b[0m\u001b[0;34m)\u001b[0m\u001b[0;34m:\u001b[0m\u001b[0;34m\u001b[0m\u001b[0;34m\u001b[0m\u001b[0m\n\u001b[1;32m   3220\u001b[0m         \u001b[0;31m# TODO(b/141462134): Switch to using garbage collection.\u001b[0m\u001b[0;34m\u001b[0m\u001b[0;34m\u001b[0m\u001b[0;34m\u001b[0m\u001b[0m\n\u001b[0;32m-> 3221\u001b[0;31m         \u001b[0mself\u001b[0m\u001b[0;34m.\u001b[0m\u001b[0m_function\u001b[0m \u001b[0;34m=\u001b[0m \u001b[0mwrapper_fn\u001b[0m\u001b[0;34m.\u001b[0m\u001b[0mget_concrete_function\u001b[0m\u001b[0;34m(\u001b[0m\u001b[0;34m)\u001b[0m\u001b[0;34m\u001b[0m\u001b[0;34m\u001b[0m\u001b[0m\n\u001b[0m\u001b[1;32m   3222\u001b[0m \u001b[0;34m\u001b[0m\u001b[0m\n\u001b[1;32m   3223\u001b[0m         \u001b[0;32mif\u001b[0m \u001b[0madd_to_graph\u001b[0m\u001b[0;34m:\u001b[0m\u001b[0;34m\u001b[0m\u001b[0;34m\u001b[0m\u001b[0m\n",
      "\u001b[0;32m~/anaconda3/lib/python3.7/site-packages/tensorflow/python/eager/function.py\u001b[0m in \u001b[0;36mget_concrete_function\u001b[0;34m(self, *args, **kwargs)\u001b[0m\n\u001b[1;32m   2530\u001b[0m     \"\"\"\n\u001b[1;32m   2531\u001b[0m     graph_function = self._get_concrete_function_garbage_collected(\n\u001b[0;32m-> 2532\u001b[0;31m         *args, **kwargs)\n\u001b[0m\u001b[1;32m   2533\u001b[0m     \u001b[0mgraph_function\u001b[0m\u001b[0;34m.\u001b[0m\u001b[0m_garbage_collector\u001b[0m\u001b[0;34m.\u001b[0m\u001b[0mrelease\u001b[0m\u001b[0;34m(\u001b[0m\u001b[0;34m)\u001b[0m  \u001b[0;31m# pylint: disable=protected-access\u001b[0m\u001b[0;34m\u001b[0m\u001b[0;34m\u001b[0m\u001b[0m\n\u001b[1;32m   2534\u001b[0m     \u001b[0;32mreturn\u001b[0m \u001b[0mgraph_function\u001b[0m\u001b[0;34m\u001b[0m\u001b[0;34m\u001b[0m\u001b[0m\n",
      "\u001b[0;32m~/anaconda3/lib/python3.7/site-packages/tensorflow/python/eager/function.py\u001b[0m in \u001b[0;36m_get_concrete_function_garbage_collected\u001b[0;34m(self, *args, **kwargs)\u001b[0m\n\u001b[1;32m   2494\u001b[0m       \u001b[0margs\u001b[0m\u001b[0;34m,\u001b[0m \u001b[0mkwargs\u001b[0m \u001b[0;34m=\u001b[0m \u001b[0;32mNone\u001b[0m\u001b[0;34m,\u001b[0m \u001b[0;32mNone\u001b[0m\u001b[0;34m\u001b[0m\u001b[0;34m\u001b[0m\u001b[0m\n\u001b[1;32m   2495\u001b[0m     \u001b[0;32mwith\u001b[0m \u001b[0mself\u001b[0m\u001b[0;34m.\u001b[0m\u001b[0m_lock\u001b[0m\u001b[0;34m:\u001b[0m\u001b[0;34m\u001b[0m\u001b[0;34m\u001b[0m\u001b[0m\n\u001b[0;32m-> 2496\u001b[0;31m       \u001b[0mgraph_function\u001b[0m\u001b[0;34m,\u001b[0m \u001b[0margs\u001b[0m\u001b[0;34m,\u001b[0m \u001b[0mkwargs\u001b[0m \u001b[0;34m=\u001b[0m \u001b[0mself\u001b[0m\u001b[0;34m.\u001b[0m\u001b[0m_maybe_define_function\u001b[0m\u001b[0;34m(\u001b[0m\u001b[0margs\u001b[0m\u001b[0;34m,\u001b[0m \u001b[0mkwargs\u001b[0m\u001b[0;34m)\u001b[0m\u001b[0;34m\u001b[0m\u001b[0;34m\u001b[0m\u001b[0m\n\u001b[0m\u001b[1;32m   2497\u001b[0m       \u001b[0;32mif\u001b[0m \u001b[0mself\u001b[0m\u001b[0;34m.\u001b[0m\u001b[0minput_signature\u001b[0m\u001b[0;34m:\u001b[0m\u001b[0;34m\u001b[0m\u001b[0;34m\u001b[0m\u001b[0m\n\u001b[1;32m   2498\u001b[0m         \u001b[0margs\u001b[0m \u001b[0;34m=\u001b[0m \u001b[0mself\u001b[0m\u001b[0;34m.\u001b[0m\u001b[0minput_signature\u001b[0m\u001b[0;34m\u001b[0m\u001b[0;34m\u001b[0m\u001b[0m\n",
      "\u001b[0;32m~/anaconda3/lib/python3.7/site-packages/tensorflow/python/eager/function.py\u001b[0m in \u001b[0;36m_maybe_define_function\u001b[0;34m(self, args, kwargs)\u001b[0m\n\u001b[1;32m   2775\u001b[0m \u001b[0;34m\u001b[0m\u001b[0m\n\u001b[1;32m   2776\u001b[0m       \u001b[0mself\u001b[0m\u001b[0;34m.\u001b[0m\u001b[0m_function_cache\u001b[0m\u001b[0;34m.\u001b[0m\u001b[0mmissed\u001b[0m\u001b[0;34m.\u001b[0m\u001b[0madd\u001b[0m\u001b[0;34m(\u001b[0m\u001b[0mcall_context_key\u001b[0m\u001b[0;34m)\u001b[0m\u001b[0;34m\u001b[0m\u001b[0;34m\u001b[0m\u001b[0m\n\u001b[0;32m-> 2777\u001b[0;31m       \u001b[0mgraph_function\u001b[0m \u001b[0;34m=\u001b[0m \u001b[0mself\u001b[0m\u001b[0;34m.\u001b[0m\u001b[0m_create_graph_function\u001b[0m\u001b[0;34m(\u001b[0m\u001b[0margs\u001b[0m\u001b[0;34m,\u001b[0m \u001b[0mkwargs\u001b[0m\u001b[0;34m)\u001b[0m\u001b[0;34m\u001b[0m\u001b[0;34m\u001b[0m\u001b[0m\n\u001b[0m\u001b[1;32m   2778\u001b[0m       \u001b[0mself\u001b[0m\u001b[0;34m.\u001b[0m\u001b[0m_function_cache\u001b[0m\u001b[0;34m.\u001b[0m\u001b[0mprimary\u001b[0m\u001b[0;34m[\u001b[0m\u001b[0mcache_key\u001b[0m\u001b[0;34m]\u001b[0m \u001b[0;34m=\u001b[0m \u001b[0mgraph_function\u001b[0m\u001b[0;34m\u001b[0m\u001b[0;34m\u001b[0m\u001b[0m\n\u001b[1;32m   2779\u001b[0m       \u001b[0;32mreturn\u001b[0m \u001b[0mgraph_function\u001b[0m\u001b[0;34m,\u001b[0m \u001b[0margs\u001b[0m\u001b[0;34m,\u001b[0m \u001b[0mkwargs\u001b[0m\u001b[0;34m\u001b[0m\u001b[0;34m\u001b[0m\u001b[0m\n",
      "\u001b[0;32m~/anaconda3/lib/python3.7/site-packages/tensorflow/python/eager/function.py\u001b[0m in \u001b[0;36m_create_graph_function\u001b[0;34m(self, args, kwargs, override_flat_arg_shapes)\u001b[0m\n\u001b[1;32m   2665\u001b[0m             \u001b[0marg_names\u001b[0m\u001b[0;34m=\u001b[0m\u001b[0marg_names\u001b[0m\u001b[0;34m,\u001b[0m\u001b[0;34m\u001b[0m\u001b[0;34m\u001b[0m\u001b[0m\n\u001b[1;32m   2666\u001b[0m             \u001b[0moverride_flat_arg_shapes\u001b[0m\u001b[0;34m=\u001b[0m\u001b[0moverride_flat_arg_shapes\u001b[0m\u001b[0;34m,\u001b[0m\u001b[0;34m\u001b[0m\u001b[0;34m\u001b[0m\u001b[0m\n\u001b[0;32m-> 2667\u001b[0;31m             capture_by_value=self._capture_by_value),\n\u001b[0m\u001b[1;32m   2668\u001b[0m         \u001b[0mself\u001b[0m\u001b[0;34m.\u001b[0m\u001b[0m_function_attributes\u001b[0m\u001b[0;34m,\u001b[0m\u001b[0;34m\u001b[0m\u001b[0;34m\u001b[0m\u001b[0m\n\u001b[1;32m   2669\u001b[0m         \u001b[0;31m# Tell the ConcreteFunction to clean up its graph once it goes out of\u001b[0m\u001b[0;34m\u001b[0m\u001b[0;34m\u001b[0m\u001b[0;34m\u001b[0m\u001b[0m\n",
      "\u001b[0;32m~/anaconda3/lib/python3.7/site-packages/tensorflow/python/framework/func_graph.py\u001b[0m in \u001b[0;36mfunc_graph_from_py_func\u001b[0;34m(name, python_func, args, kwargs, signature, func_graph, autograph, autograph_options, add_control_dependencies, arg_names, op_return_value, collections, capture_by_value, override_flat_arg_shapes)\u001b[0m\n\u001b[1;32m    979\u001b[0m         \u001b[0m_\u001b[0m\u001b[0;34m,\u001b[0m \u001b[0moriginal_func\u001b[0m \u001b[0;34m=\u001b[0m \u001b[0mtf_decorator\u001b[0m\u001b[0;34m.\u001b[0m\u001b[0munwrap\u001b[0m\u001b[0;34m(\u001b[0m\u001b[0mpython_func\u001b[0m\u001b[0;34m)\u001b[0m\u001b[0;34m\u001b[0m\u001b[0;34m\u001b[0m\u001b[0m\n\u001b[1;32m    980\u001b[0m \u001b[0;34m\u001b[0m\u001b[0m\n\u001b[0;32m--> 981\u001b[0;31m       \u001b[0mfunc_outputs\u001b[0m \u001b[0;34m=\u001b[0m \u001b[0mpython_func\u001b[0m\u001b[0;34m(\u001b[0m\u001b[0;34m*\u001b[0m\u001b[0mfunc_args\u001b[0m\u001b[0;34m,\u001b[0m \u001b[0;34m**\u001b[0m\u001b[0mfunc_kwargs\u001b[0m\u001b[0;34m)\u001b[0m\u001b[0;34m\u001b[0m\u001b[0;34m\u001b[0m\u001b[0m\n\u001b[0m\u001b[1;32m    982\u001b[0m \u001b[0;34m\u001b[0m\u001b[0m\n\u001b[1;32m    983\u001b[0m       \u001b[0;31m# invariant: `func_outputs` contains only Tensors, CompositeTensors,\u001b[0m\u001b[0;34m\u001b[0m\u001b[0;34m\u001b[0m\u001b[0;34m\u001b[0m\u001b[0m\n",
      "\u001b[0;32m~/anaconda3/lib/python3.7/site-packages/tensorflow/python/data/ops/dataset_ops.py\u001b[0m in \u001b[0;36mwrapper_fn\u001b[0;34m(*args)\u001b[0m\n\u001b[1;32m   3212\u001b[0m           attributes=defun_kwargs)\n\u001b[1;32m   3213\u001b[0m       \u001b[0;32mdef\u001b[0m \u001b[0mwrapper_fn\u001b[0m\u001b[0;34m(\u001b[0m\u001b[0;34m*\u001b[0m\u001b[0margs\u001b[0m\u001b[0;34m)\u001b[0m\u001b[0;34m:\u001b[0m  \u001b[0;31m# pylint: disable=missing-docstring\u001b[0m\u001b[0;34m\u001b[0m\u001b[0;34m\u001b[0m\u001b[0m\n\u001b[0;32m-> 3214\u001b[0;31m         \u001b[0mret\u001b[0m \u001b[0;34m=\u001b[0m \u001b[0m_wrapper_helper\u001b[0m\u001b[0;34m(\u001b[0m\u001b[0;34m*\u001b[0m\u001b[0margs\u001b[0m\u001b[0;34m)\u001b[0m\u001b[0;34m\u001b[0m\u001b[0;34m\u001b[0m\u001b[0m\n\u001b[0m\u001b[1;32m   3215\u001b[0m         \u001b[0mret\u001b[0m \u001b[0;34m=\u001b[0m \u001b[0mstructure\u001b[0m\u001b[0;34m.\u001b[0m\u001b[0mto_tensor_list\u001b[0m\u001b[0;34m(\u001b[0m\u001b[0mself\u001b[0m\u001b[0;34m.\u001b[0m\u001b[0m_output_structure\u001b[0m\u001b[0;34m,\u001b[0m \u001b[0mret\u001b[0m\u001b[0;34m)\u001b[0m\u001b[0;34m\u001b[0m\u001b[0;34m\u001b[0m\u001b[0m\n\u001b[1;32m   3216\u001b[0m         \u001b[0;32mreturn\u001b[0m \u001b[0;34m[\u001b[0m\u001b[0mops\u001b[0m\u001b[0;34m.\u001b[0m\u001b[0mconvert_to_tensor\u001b[0m\u001b[0;34m(\u001b[0m\u001b[0mt\u001b[0m\u001b[0;34m)\u001b[0m \u001b[0;32mfor\u001b[0m \u001b[0mt\u001b[0m \u001b[0;32min\u001b[0m \u001b[0mret\u001b[0m\u001b[0;34m]\u001b[0m\u001b[0;34m\u001b[0m\u001b[0;34m\u001b[0m\u001b[0m\n",
      "\u001b[0;32m~/anaconda3/lib/python3.7/site-packages/tensorflow/python/data/ops/dataset_ops.py\u001b[0m in \u001b[0;36m_wrapper_helper\u001b[0;34m(*args)\u001b[0m\n\u001b[1;32m   3154\u001b[0m         \u001b[0mnested_args\u001b[0m \u001b[0;34m=\u001b[0m \u001b[0;34m(\u001b[0m\u001b[0mnested_args\u001b[0m\u001b[0;34m,\u001b[0m\u001b[0;34m)\u001b[0m\u001b[0;34m\u001b[0m\u001b[0;34m\u001b[0m\u001b[0m\n\u001b[1;32m   3155\u001b[0m \u001b[0;34m\u001b[0m\u001b[0m\n\u001b[0;32m-> 3156\u001b[0;31m       \u001b[0mret\u001b[0m \u001b[0;34m=\u001b[0m \u001b[0mautograph\u001b[0m\u001b[0;34m.\u001b[0m\u001b[0mtf_convert\u001b[0m\u001b[0;34m(\u001b[0m\u001b[0mfunc\u001b[0m\u001b[0;34m,\u001b[0m \u001b[0mag_ctx\u001b[0m\u001b[0;34m)\u001b[0m\u001b[0;34m(\u001b[0m\u001b[0;34m*\u001b[0m\u001b[0mnested_args\u001b[0m\u001b[0;34m)\u001b[0m\u001b[0;34m\u001b[0m\u001b[0;34m\u001b[0m\u001b[0m\n\u001b[0m\u001b[1;32m   3157\u001b[0m       \u001b[0;31m# If `func` returns a list of tensors, `nest.flatten()` and\u001b[0m\u001b[0;34m\u001b[0m\u001b[0;34m\u001b[0m\u001b[0;34m\u001b[0m\u001b[0m\n\u001b[1;32m   3158\u001b[0m       \u001b[0;31m# `ops.convert_to_tensor()` would conspire to attempt to stack\u001b[0m\u001b[0;34m\u001b[0m\u001b[0;34m\u001b[0m\u001b[0;34m\u001b[0m\u001b[0m\n",
      "\u001b[0;32m~/anaconda3/lib/python3.7/site-packages/tensorflow/python/autograph/impl/api.py\u001b[0m in \u001b[0;36mwrapper\u001b[0;34m(*args, **kwargs)\u001b[0m\n\u001b[1;32m    263\u001b[0m       \u001b[0;32mexcept\u001b[0m \u001b[0mException\u001b[0m \u001b[0;32mas\u001b[0m \u001b[0me\u001b[0m\u001b[0;34m:\u001b[0m  \u001b[0;31m# pylint:disable=broad-except\u001b[0m\u001b[0;34m\u001b[0m\u001b[0;34m\u001b[0m\u001b[0m\n\u001b[1;32m    264\u001b[0m         \u001b[0;32mif\u001b[0m \u001b[0mhasattr\u001b[0m\u001b[0;34m(\u001b[0m\u001b[0me\u001b[0m\u001b[0;34m,\u001b[0m \u001b[0;34m'ag_error_metadata'\u001b[0m\u001b[0;34m)\u001b[0m\u001b[0;34m:\u001b[0m\u001b[0;34m\u001b[0m\u001b[0;34m\u001b[0m\u001b[0m\n\u001b[0;32m--> 265\u001b[0;31m           \u001b[0;32mraise\u001b[0m \u001b[0me\u001b[0m\u001b[0;34m.\u001b[0m\u001b[0mag_error_metadata\u001b[0m\u001b[0;34m.\u001b[0m\u001b[0mto_exception\u001b[0m\u001b[0;34m(\u001b[0m\u001b[0me\u001b[0m\u001b[0;34m)\u001b[0m\u001b[0;34m\u001b[0m\u001b[0;34m\u001b[0m\u001b[0m\n\u001b[0m\u001b[1;32m    266\u001b[0m         \u001b[0;32melse\u001b[0m\u001b[0;34m:\u001b[0m\u001b[0;34m\u001b[0m\u001b[0;34m\u001b[0m\u001b[0m\n\u001b[1;32m    267\u001b[0m           \u001b[0;32mraise\u001b[0m\u001b[0;34m\u001b[0m\u001b[0;34m\u001b[0m\u001b[0m\n",
      "\u001b[0;31mTypeError\u001b[0m: in user code:\n\n    <ipython-input-15-9f65bf990744>:5 wav2spec  *\n        D = np.abs(librosa.stft(wav, n_fft=fft_size))\n    /home/aiffel/anaconda3/lib/python3.7/site-packages/librosa/core/spectrum.py:208 stft  *\n        fft_window = get_window(window, win_length, fftbins=True)\n    /home/aiffel/anaconda3/lib/python3.7/site-packages/librosa/filters.py:884 get_window  *\n        return scipy.signal.get_window(window, Nx, fftbins=fftbins)\n    /home/aiffel/anaconda3/lib/python3.7/site-packages/scipy/signal/windows/windows.py:2124 get_window  *\n        return winfunc(*params)\n    /home/aiffel/anaconda3/lib/python3.7/site-packages/scipy/signal/windows/windows.py:790 hann  *\n        return general_hamming(M, 0.5, sym)\n    /home/aiffel/anaconda3/lib/python3.7/site-packages/scipy/signal/windows/windows.py:1020 general_hamming  *\n        return general_cosine(M, [alpha, 1. - alpha], sym)\n    /home/aiffel/anaconda3/lib/python3.7/site-packages/scipy/signal/windows/windows.py:112 general_cosine  *\n        if _len_guards(M):\n    /home/aiffel/anaconda3/lib/python3.7/site-packages/scipy/signal/windows/windows.py:21 _len_guards  *\n        if int(M) != M or M < 0:\n    /home/aiffel/anaconda3/lib/python3.7/site-packages/tensorflow/python/ops/math_ops.py:1502 tensor_not_equals\n        return gen_math_ops.not_equal(self, other, incompatible_shape_error=False)\n    /home/aiffel/anaconda3/lib/python3.7/site-packages/tensorflow/python/ops/gen_math_ops.py:6422 not_equal\n        name=name)\n    /home/aiffel/anaconda3/lib/python3.7/site-packages/tensorflow/python/framework/op_def_library.py:506 _apply_op_helper\n        inferred_from[input_arg.type_attr]))\n\n    TypeError: Input 'y' of 'NotEqual' Op has type float32 that does not match type int32 of argument 'x'.\n"
     ]
    }
   ],
   "source": [
    "# 2차원 데이터로 변환\n",
    "import librosa\n",
    "\n",
    "def wav2spec(wav, fft_size=258): # spectrogram shape을 맞추기위해서 size 변형\n",
    "    D = np.abs(librosa.stft(wav, n_fft=fft_size))\n",
    "    return D\n",
    "\n",
    "# 1차원 데이터에서 2차원 데이터로 변환됨\n",
    "# for train\n",
    "spec_train_dataset = tf.data.Dataset.from_tensor_slices((train_wav, train_label))\n",
    "spec_train_dataset = train_dataset.map(wav2spec)\n",
    "spec_train_dataset = train_dataset.repeat().batch(batch_size=batch_size)\n",
    "print(spec_train_dataset)\n",
    "\n",
    "# for test\n",
    "spec_test_dataset = tf.data.Dataset.from_tensor_slices((test_wav, test_label))\n",
    "spec_test_dataset = test_dataset.map(wav2spec)\n",
    "spec_test_dataset = test_dataset.batch(batch_size=batch_size)\n",
    "print(test_dataset)\n",
    "\n",
    "# train_spec = wav2spec(spec_)\n",
    "# print(\"Waveform shape : \",data.shape)\n",
    "# print(\"Spectrogram shape : \",spec.shape)"
   ]
  },
  {
   "cell_type": "markdown",
   "metadata": {},
   "source": [
    "#### 모델 만들기 (기본)"
   ]
  },
  {
   "cell_type": "code",
   "execution_count": 16,
   "metadata": {
    "scrolled": true
   },
   "outputs": [
    {
     "name": "stdout",
     "output_type": "stream",
     "text": [
      "Model: \"model\"\n",
      "_________________________________________________________________\n",
      "Layer (type)                 Output Shape              Param #   \n",
      "=================================================================\n",
      "input_1 (InputLayer)         [(None, 8000, 1)]         0         \n",
      "_________________________________________________________________\n",
      "conv1d (Conv1D)              (None, 8000, 32)          320       \n",
      "_________________________________________________________________\n",
      "conv1d_1 (Conv1D)            (None, 8000, 32)          9248      \n",
      "_________________________________________________________________\n",
      "max_pooling1d (MaxPooling1D) (None, 4000, 32)          0         \n",
      "_________________________________________________________________\n",
      "conv1d_2 (Conv1D)            (None, 4000, 64)          18496     \n",
      "_________________________________________________________________\n",
      "conv1d_3 (Conv1D)            (None, 4000, 64)          36928     \n",
      "_________________________________________________________________\n",
      "max_pooling1d_1 (MaxPooling1 (None, 2000, 64)          0         \n",
      "_________________________________________________________________\n",
      "conv1d_4 (Conv1D)            (None, 2000, 128)         73856     \n",
      "_________________________________________________________________\n",
      "conv1d_5 (Conv1D)            (None, 2000, 128)         147584    \n",
      "_________________________________________________________________\n",
      "conv1d_6 (Conv1D)            (None, 2000, 128)         147584    \n",
      "_________________________________________________________________\n",
      "max_pooling1d_2 (MaxPooling1 (None, 1000, 128)         0         \n",
      "_________________________________________________________________\n",
      "conv1d_7 (Conv1D)            (None, 1000, 256)         295168    \n",
      "_________________________________________________________________\n",
      "conv1d_8 (Conv1D)            (None, 1000, 256)         590080    \n",
      "_________________________________________________________________\n",
      "conv1d_9 (Conv1D)            (None, 1000, 256)         590080    \n",
      "_________________________________________________________________\n",
      "max_pooling1d_3 (MaxPooling1 (None, 500, 256)          0         \n",
      "_________________________________________________________________\n",
      "dropout (Dropout)            (None, 500, 256)          0         \n",
      "_________________________________________________________________\n",
      "flatten (Flatten)            (None, 128000)            0         \n",
      "_________________________________________________________________\n",
      "dense (Dense)                (None, 256)               32768256  \n",
      "_________________________________________________________________\n",
      "batch_normalization (BatchNo (None, 256)               1024      \n",
      "_________________________________________________________________\n",
      "activation (Activation)      (None, 256)               0         \n",
      "_________________________________________________________________\n",
      "dense_1 (Dense)              (None, 12)                3084      \n",
      "=================================================================\n",
      "Total params: 34,681,708\n",
      "Trainable params: 34,681,196\n",
      "Non-trainable params: 512\n",
      "_________________________________________________________________\n"
     ]
    }
   ],
   "source": [
    "#기본 모델\n",
    "#오디오 데이터는 1차원 데이터이므로 Conv1D 레이어를 사용하여 모델을 구성한다\n",
    "#레이어 구축\n",
    "from tensorflow.keras import layers\n",
    "\n",
    "input_tensor = layers.Input(shape=(sr, 1))\n",
    "\n",
    "x = layers.Conv1D(32, 9, padding='same', activation='relu')(input_tensor)\n",
    "x = layers.Conv1D(32, 9, padding='same', activation='relu')(x)\n",
    "x = layers.MaxPool1D()(x)\n",
    "\n",
    "x = layers.Conv1D(64, 9, padding='same', activation='relu')(x)\n",
    "x = layers.Conv1D(64, 9, padding='same', activation='relu')(x)\n",
    "x = layers.MaxPool1D()(x)\n",
    "\n",
    "x = layers.Conv1D(128, 9, padding='same', activation='relu')(x)\n",
    "x = layers.Conv1D(128, 9, padding='same', activation='relu')(x)\n",
    "x = layers.Conv1D(128, 9, padding='same', activation='relu')(x)\n",
    "x = layers.MaxPool1D()(x)\n",
    "\n",
    "x = layers.Conv1D(256, 9, padding='same', activation='relu')(x)\n",
    "x = layers.Conv1D(256, 9, padding='same', activation='relu')(x)\n",
    "x = layers.Conv1D(256, 9, padding='same', activation='relu')(x)\n",
    "x = layers.MaxPool1D()(x)\n",
    "x = layers.Dropout(0.3)(x)\n",
    "\n",
    "x = layers.Flatten()(x)\n",
    "x = layers.Dense(256)(x)\n",
    "x = layers.BatchNormalization()(x)\n",
    "x = layers.Activation('relu')(x)\n",
    "\n",
    "output_tensor = layers.Dense(12)(x) \n",
    "\n",
    "model_wav = tf.keras.Model(input_tensor, output_tensor)\n",
    "\n",
    "model_wav.summary()"
   ]
  },
  {
   "cell_type": "markdown",
   "metadata": {},
   "source": [
    "#### Loss function 1"
   ]
  },
  {
   "cell_type": "code",
   "execution_count": 17,
   "metadata": {},
   "outputs": [],
   "source": [
    "# 정답클래스가 12개 이므로 이를 구분하기 위해\n",
    "# multi-class classification가 필요\n",
    "# Loss funtion으로 Categorical Cross-Entropy loss 함수를 사용\n",
    "\n",
    "optimizer=tf.keras.optimizers.Adam(1e-4)\n",
    "model_wav.compile(loss=tf.keras.losses.CategoricalCrossentropy(from_logits=True),\n",
    "             optimizer=optimizer,\n",
    "             metrics=['accuracy'])\n"
   ]
  },
  {
   "cell_type": "markdown",
   "metadata": {},
   "source": [
    "#### 모델 학습시키기 1\n",
    "    - Callbak\n",
    "        - model.fit 함수 이용시, callback 함수를 이용해 학습 중간에 원하는 동작을 하도록 설정 가능\n",
    "        "
   ]
  },
  {
   "cell_type": "code",
   "execution_count": 18,
   "metadata": {},
   "outputs": [
    {
     "name": "stdout",
     "output_type": "stream",
     "text": [
      "✅\n"
     ]
    }
   ],
   "source": [
    "cp_callback = tf.keras.callbacks.ModelCheckpoint(checkpoint_dir,\n",
    "                                                 save_weights_only=True,\n",
    "                                                 monitor='val_loss',\n",
    "                                                 mode='auto',\n",
    "                                                 save_best_only=True,\n",
    "                                                 verbose=1)\n",
    "print(\"✅\")"
   ]
  },
  {
   "cell_type": "code",
   "execution_count": 19,
   "metadata": {},
   "outputs": [
    {
     "name": "stdout",
     "output_type": "stream",
     "text": [
      "Epoch 1/4\n",
      "2531/2531 [==============================] - ETA: 0s - loss: 1.5799 - accuracy: 0.4656\n",
      "Epoch 00001: val_loss improved from inf to 0.99383, saving model to /home/aiffel/workplace/aiffel/exp_05/models/wav\n",
      "2531/2531 [==============================] - 183s 72ms/step - loss: 1.5799 - accuracy: 0.4656 - val_loss: 0.9938 - val_accuracy: 0.6872\n",
      "Epoch 2/4\n",
      "2531/2531 [==============================] - ETA: 0s - loss: 0.9513 - accuracy: 0.7015\n",
      "Epoch 00002: val_loss improved from 0.99383 to 0.78460, saving model to /home/aiffel/workplace/aiffel/exp_05/models/wav\n",
      "2531/2531 [==============================] - 185s 73ms/step - loss: 0.9513 - accuracy: 0.7015 - val_loss: 0.7846 - val_accuracy: 0.7504\n",
      "Epoch 3/4\n",
      "2531/2531 [==============================] - ETA: 0s - loss: 0.6755 - accuracy: 0.7919\n",
      "Epoch 00003: val_loss improved from 0.78460 to 0.71093, saving model to /home/aiffel/workplace/aiffel/exp_05/models/wav\n",
      "2531/2531 [==============================] - 189s 75ms/step - loss: 0.6755 - accuracy: 0.7919 - val_loss: 0.7109 - val_accuracy: 0.7741\n",
      "Epoch 4/4\n",
      "2531/2531 [==============================] - ETA: 0s - loss: 0.4679 - accuracy: 0.8635\n",
      "Epoch 00004: val_loss improved from 0.71093 to 0.55052, saving model to /home/aiffel/workplace/aiffel/exp_05/models/wav\n",
      "2531/2531 [==============================] - 187s 74ms/step - loss: 0.4679 - accuracy: 0.8635 - val_loss: 0.5505 - val_accuracy: 0.8239\n",
      "✅\n"
     ]
    }
   ],
   "source": [
    "# 모델 학습 코드\n",
    "# 이전 스텝의 배치 사이즈와 에폭 값을 조절하여 최적의 하이퍼 파마미터를 설정하기\n",
    "history_wav = model_wav.fit(train_dataset, epochs=max_epochs,\n",
    "                    steps_per_epoch=len(train_wav) // batch_size,\n",
    "                    validation_data=test_dataset,\n",
    "                    validation_steps=len(test_wav) // batch_size,\n",
    "                    callbacks=[cp_callback]\n",
    "                    )\n",
    "print(\"✅\")"
   ]
  },
  {
   "cell_type": "code",
   "execution_count": 20,
   "metadata": {
    "scrolled": true
   },
   "outputs": [
    {
     "data": {
      "image/png": "[encoded data removed]",
      "text/plain": [
       "<Figure size 576x576 with 2 Axes>"
      ]
     },
     "metadata": {
      "needs_background": "light"
     },
     "output_type": "display_data"
    },
    {
     "name": "stdout",
     "output_type": "stream",
     "text": [
      "✅\n"
     ]
    }
   ],
   "source": [
    "# 학습 결과를 loss 와 accuracy값을 이용하여 시각화\n",
    "# 주의 : train loss 와 val_loss 의 차이가 커지는 경우는\n",
    "# -> 오버피팅이 일어나는 것이므로 수정이 필요하다\n",
    "\n",
    "import matplotlib.pyplot as plt\n",
    "\n",
    "acc = history_wav.history['accuracy']\n",
    "val_acc = history_wav.history['val_accuracy']\n",
    "\n",
    "loss=history_wav.history['loss']\n",
    "val_loss=history_wav.history['val_loss']\n",
    "\n",
    "epochs_range = range(len(acc))\n",
    "\n",
    "plt.figure(figsize=(8, 8))\n",
    "plt.subplot(1, 2, 1)\n",
    "plt.plot(epochs_range, acc, label='Training Accuracy')\n",
    "plt.plot(epochs_range, val_acc, label='Validation Accuracy')\n",
    "plt.legend(loc='lower right')\n",
    "plt.title('Training and Validation Accuracy')\n",
    "\n",
    "plt.subplot(1, 2, 2)\n",
    "plt.plot(epochs_range, loss, label='Training Loss')\n",
    "plt.plot(epochs_range, val_loss, label='Validation Loss')\n",
    "plt.legend(loc='upper right')\n",
    "plt.title('Training and Validation Loss')\n",
    "plt.show()\n",
    "print(\"✅\")"
   ]
  },
  {
   "cell_type": "code",
   "execution_count": 21,
   "metadata": {},
   "outputs": [
    {
     "name": "stdout",
     "output_type": "stream",
     "text": [
      "633/633 [==============================] - 22s 35ms/step - loss: 0.5506 - accuracy: 0.8238\n",
      "loss value: 0.551\n",
      "accuracy value: 82.3785%\n"
     ]
    }
   ],
   "source": [
    "# 테스트 데이터셋을 이용하여 모델의 성능 평가\n",
    "\n",
    "\n",
    "# callback 함수의 가중치 불러오기\n",
    "model_wav.load_weights(checkpoint_dir)\n",
    "\n",
    "\n",
    "# 테스트 데이터를 이용하여 모델의 예측값과 실제값이 얼마나 일치하는지 확인하기\n",
    "results = model_wav.evaluate(test_dataset)\n",
    "\n",
    "# loss\n",
    "print(\"loss value: {:.3f}\".format(results[0]))\n",
    "\n",
    "# accuracy\n",
    "print(\"accuracy value: {:.4f}%\".format(results[1]*100))"
   ]
  },
  {
   "cell_type": "code",
   "execution_count": 22,
   "metadata": {},
   "outputs": [
    {
     "name": "stdout",
     "output_type": "stream",
     "text": [
      "label :  silence\n",
      "y_pred: silence(Correct!)\n"
     ]
    }
   ],
   "source": [
    "# 모델의 테스트셋을 골라 들어보고\n",
    "inv_label_value = {v: k for k, v in label_value.items()}\n",
    "batch_index = np.random.choice(len(test_wav), size=1, replace=False)\n",
    "\n",
    "batch_xs = test_wav[batch_index]\n",
    "batch_ys = test_label[batch_index]\n",
    "y_pred_ = model_wav(batch_xs, training=False)\n",
    "\n",
    "print(\"label : \", str(inv_label_value[batch_ys[0]]))\n",
    "\n",
    "ipd.Audio(batch_xs.reshape(8000,), rate=8000)\n",
    "\n",
    "#테스트 셋의 라벨과 모델의 실제 예측결과를 비교하기\n",
    "if np.argmax(y_pred_) == batch_ys[0]:\n",
    "    print(\"y_pred: \" + str(inv_label_value[np.argmax(y_pred_)]) + '(Correct!)')\n",
    "else:\n",
    "    print(\"y_pred: \" + str(inv_label_value[np.argmax(y_pred_)]) + '(Incorrect!)')\n"
   ]
  },
  {
   "cell_type": "markdown",
   "metadata": {},
   "source": [
    "#### 모델 만들기 2\n",
    "- Skip-Connection model 추가하기\n",
    "- 위쪽의 데이터가 레이어를 뛰어넘어 레이어를 통과한 값에 더해주는 형식으로 구현됨\n",
    "- 코드예시\n",
    "    - tf.concat([#layer output tensor, layer output tensor#], axis=#)"
   ]
  },
  {
   "cell_type": "code",
   "execution_count": 23,
   "metadata": {},
   "outputs": [
    {
     "name": "stdout",
     "output_type": "stream",
     "text": [
      "Model: \"model_1\"\n",
      "__________________________________________________________________________________________________\n",
      "Layer (type)                    Output Shape         Param #     Connected to                     \n",
      "==================================================================================================\n",
      "input_2 (InputLayer)            [(None, 8000, 1)]    0                                            \n",
      "__________________________________________________________________________________________________\n",
      "conv1d_10 (Conv1D)              (None, 8000, 32)     320         input_2[0][0]                    \n",
      "__________________________________________________________________________________________________\n",
      "conv1d_11 (Conv1D)              (None, 8000, 32)     9248        conv1d_10[0][0]                  \n",
      "__________________________________________________________________________________________________\n",
      "max_pooling1d_4 (MaxPooling1D)  (None, 4000, 32)     0           conv1d_11[0][0]                  \n",
      "__________________________________________________________________________________________________\n",
      "conv1d_12 (Conv1D)              (None, 4000, 64)     18496       max_pooling1d_4[0][0]            \n",
      "__________________________________________________________________________________________________\n",
      "conv1d_13 (Conv1D)              (None, 4000, 64)     36928       conv1d_12[0][0]                  \n",
      "__________________________________________________________________________________________________\n",
      "tf_op_layer_concat (TensorFlowO [(None, 4000, 96)]   0           conv1d_13[0][0]                  \n",
      "                                                                 max_pooling1d_4[0][0]            \n",
      "__________________________________________________________________________________________________\n",
      "max_pooling1d_5 (MaxPooling1D)  (None, 2000, 96)     0           tf_op_layer_concat[0][0]         \n",
      "__________________________________________________________________________________________________\n",
      "conv1d_14 (Conv1D)              (None, 2000, 128)    110720      max_pooling1d_5[0][0]            \n",
      "__________________________________________________________________________________________________\n",
      "conv1d_15 (Conv1D)              (None, 2000, 128)    147584      conv1d_14[0][0]                  \n",
      "__________________________________________________________________________________________________\n",
      "conv1d_16 (Conv1D)              (None, 2000, 128)    147584      conv1d_15[0][0]                  \n",
      "__________________________________________________________________________________________________\n",
      "tf_op_layer_concat_1 (TensorFlo [(None, 2000, 224)]  0           conv1d_16[0][0]                  \n",
      "                                                                 max_pooling1d_5[0][0]            \n",
      "__________________________________________________________________________________________________\n",
      "max_pooling1d_6 (MaxPooling1D)  (None, 1000, 224)    0           tf_op_layer_concat_1[0][0]       \n",
      "__________________________________________________________________________________________________\n",
      "conv1d_17 (Conv1D)              (None, 1000, 256)    516352      max_pooling1d_6[0][0]            \n",
      "__________________________________________________________________________________________________\n",
      "conv1d_18 (Conv1D)              (None, 1000, 256)    590080      conv1d_17[0][0]                  \n",
      "__________________________________________________________________________________________________\n",
      "conv1d_19 (Conv1D)              (None, 1000, 256)    590080      conv1d_18[0][0]                  \n",
      "__________________________________________________________________________________________________\n",
      "tf_op_layer_concat_2 (TensorFlo [(None, 1000, 480)]  0           conv1d_19[0][0]                  \n",
      "                                                                 max_pooling1d_6[0][0]            \n",
      "__________________________________________________________________________________________________\n",
      "max_pooling1d_7 (MaxPooling1D)  (None, 500, 480)     0           tf_op_layer_concat_2[0][0]       \n",
      "__________________________________________________________________________________________________\n",
      "dropout_1 (Dropout)             (None, 500, 480)     0           max_pooling1d_7[0][0]            \n",
      "__________________________________________________________________________________________________\n",
      "flatten_1 (Flatten)             (None, 240000)       0           dropout_1[0][0]                  \n",
      "__________________________________________________________________________________________________\n",
      "dense_2 (Dense)                 (None, 256)          61440256    flatten_1[0][0]                  \n",
      "__________________________________________________________________________________________________\n",
      "batch_normalization_1 (BatchNor (None, 256)          1024        dense_2[0][0]                    \n",
      "__________________________________________________________________________________________________\n",
      "activation_1 (Activation)       (None, 256)          0           batch_normalization_1[0][0]      \n",
      "__________________________________________________________________________________________________\n",
      "dense_3 (Dense)                 (None, 12)           3084        activation_1[0][0]               \n",
      "==================================================================================================\n",
      "Total params: 63,611,756\n",
      "Trainable params: 63,611,244\n",
      "Non-trainable params: 512\n",
      "__________________________________________________________________________________________________\n"
     ]
    }
   ],
   "source": [
    "#스킵 커넥션 모델 구현\n",
    "\n",
    "input_tensor = layers.Input(shape=(sr, 1))\n",
    "\n",
    "x = layers.Conv1D(32, 9, padding='same', activation='relu')(input_tensor)\n",
    "x = layers.Conv1D(32, 9, padding='same', activation='relu')(x)\n",
    "skip_1 = layers.MaxPool1D()(x)\n",
    "\n",
    "x = layers.Conv1D(64, 9, padding='same', activation='relu')(skip_1)\n",
    "x = layers.Conv1D(64, 9, padding='same', activation='relu')(x)\n",
    "x = tf.concat([x, skip_1], -1)#Skip-Connection model1\n",
    "skip_2 = layers.MaxPool1D()(x)\n",
    "\n",
    "x = layers.Conv1D(128, 9, padding='same', activation='relu')(skip_2)\n",
    "x = layers.Conv1D(128, 9, padding='same', activation='relu')(x)\n",
    "x = layers.Conv1D(128, 9, padding='same', activation='relu')(x)\n",
    "x = tf.concat([x, skip_2], -1)#Skip-Connection model2\n",
    "skip_3 = layers.MaxPool1D()(x)\n",
    "\n",
    "x = layers.Conv1D(256, 9, padding='same', activation='relu')(skip_3)\n",
    "x = layers.Conv1D(256, 9, padding='same', activation='relu')(x)\n",
    "x = layers.Conv1D(256, 9, padding='same', activation='relu')(x)\n",
    "x = tf.concat([x, skip_3], -1)#Skip-Connection model3\n",
    "x = layers.MaxPool1D()(x)\n",
    "x = layers.Dropout(0.3)(x)\n",
    "\n",
    "x = layers.Flatten()(x)\n",
    "x = layers.Dense(256)(x)\n",
    "x = layers.BatchNormalization()(x)\n",
    "x = layers.Activation('relu')(x)\n",
    "\n",
    "output_tensor = layers.Dense(12)(x)\n",
    "\n",
    "model_wav_skip = tf.keras.Model(input_tensor, output_tensor)\n",
    "\n",
    "model_wav_skip.summary()"
   ]
  },
  {
   "cell_type": "code",
   "execution_count": 28,
   "metadata": {},
   "outputs": [
    {
     "name": "stdout",
     "output_type": "stream",
     "text": [
      "✅\n"
     ]
    }
   ],
   "source": [
    "# 정답클래스가 12개 이므로 이를 구분하기 위해\n",
    "# multi-class classification가 필요\n",
    "# Loss funtion으로 Categorical Cross-Entropy loss 함수를 사용\n",
    "\n",
    "optimizer=tf.keras.optimizers.Adam(1e-4)\n",
    "model_wav_skip.compile(loss=tf.keras.losses.CategoricalCrossentropy(from_logits=True),\n",
    "             optimizer=optimizer,\n",
    "             metrics=['accuracy'])\n",
    "print(\"✅\")"
   ]
  },
  {
   "cell_type": "code",
   "execution_count": 29,
   "metadata": {},
   "outputs": [
    {
     "name": "stdout",
     "output_type": "stream",
     "text": [
      "✅\n"
     ]
    }
   ],
   "source": [
    "cp_callback = tf.keras.callbacks.ModelCheckpoint(checkpoint_dir,\n",
    "                                                 save_weights_only=True,\n",
    "                                                 monitor='val_loss',\n",
    "                                                 mode='auto',\n",
    "                                                 save_best_only=True,\n",
    "                                                 verbose=1)\n",
    "print(\"✅\")"
   ]
  },
  {
   "cell_type": "code",
   "execution_count": 31,
   "metadata": {},
   "outputs": [
    {
     "name": "stdout",
     "output_type": "stream",
     "text": [
      "Epoch 1/4\n",
      "2531/2531 [==============================] - ETA: 0s - loss: 0.0800 - accuracy: 0.9859\n",
      "Epoch 00001: val_loss did not improve from 0.41941\n",
      "2531/2531 [==============================] - 220s 87ms/step - loss: 0.0800 - accuracy: 0.9859 - val_loss: 0.5082 - val_accuracy: 0.8478\n",
      "Epoch 2/4\n",
      "2531/2531 [==============================] - ETA: 0s - loss: 0.0467 - accuracy: 0.9928\n",
      "Epoch 00002: val_loss did not improve from 0.41941\n",
      "2531/2531 [==============================] - 231s 91ms/step - loss: 0.0467 - accuracy: 0.9928 - val_loss: 0.6773 - val_accuracy: 0.7994\n",
      "Epoch 3/4\n",
      "2531/2531 [==============================] - ETA: 0s - loss: 0.0353 - accuracy: 0.9944\n",
      "Epoch 00003: val_loss improved from 0.41941 to 0.39989, saving model to /home/aiffel/workplace/aiffel/exp_05/models/wav\n",
      "2531/2531 [==============================] - 227s 90ms/step - loss: 0.0353 - accuracy: 0.9944 - val_loss: 0.3999 - val_accuracy: 0.8869\n",
      "Epoch 4/4\n",
      "2531/2531 [==============================] - ETA: 0s - loss: 0.0262 - accuracy: 0.9961\n",
      "Epoch 00004: val_loss did not improve from 0.39989\n",
      "2531/2531 [==============================] - 230s 91ms/step - loss: 0.0262 - accuracy: 0.9961 - val_loss: 0.4437 - val_accuracy: 0.8814\n",
      "✅\n"
     ]
    }
   ],
   "source": [
    "#스킵 커넥션 모델 학습\n",
    "#이전 스텝의 배치 사이즈와 에폭 값을 조절하여 최적의 하이퍼 파마미터를 설정하기\n",
    "history_wav2 = model_wav_skip.fit(train_dataset, epochs=max_epochs,\n",
    "                    steps_per_epoch=len(train_wav) // batch_size,\n",
    "                    validation_data=test_dataset,\n",
    "                    validation_steps=len(test_wav) // batch_size,\n",
    "                    callbacks=[cp_callback]\n",
    "                    )\n",
    "print(\"✅\")"
   ]
  },
  {
   "cell_type": "code",
   "execution_count": 32,
   "metadata": {},
   "outputs": [
    {
     "data": {
      "image/png": "[encoded data removed]",
      "text/plain": [
       "<Figure size 576x576 with 2 Axes>"
      ]
     },
     "metadata": {
      "needs_background": "light"
     },
     "output_type": "display_data"
    },
    {
     "name": "stdout",
     "output_type": "stream",
     "text": [
      "✅\n"
     ]
    }
   ],
   "source": [
    "# 학습 결과를 loss 와 accuracy값을 이용하여 시각화\n",
    "# 주의 : train loss 와 val_loss 의 차이가 커지는 경우는\n",
    "# -> 오버피팅이 일어나는 것이므로 수정이 필요하다\n",
    "\n",
    "import matplotlib.pyplot as plt\n",
    "\n",
    "acc = history_wav2.history['accuracy']\n",
    "val_acc = history_wav2.history['val_accuracy']\n",
    "\n",
    "loss=history_wav2.history['loss']\n",
    "val_loss=history_wav2.history['val_loss']\n",
    "\n",
    "epochs_range = range(len(acc))\n",
    "\n",
    "plt.figure(figsize=(8, 8))\n",
    "plt.subplot(1, 2, 1)\n",
    "plt.plot(epochs_range, acc, label='Training Accuracy')\n",
    "plt.plot(epochs_range, val_acc, label='Validation Accuracy')\n",
    "plt.legend(loc='lower right')\n",
    "plt.title('Training and Validation Accuracy')\n",
    "\n",
    "plt.subplot(1, 2, 2)\n",
    "plt.plot(epochs_range, loss, label='Training Loss')\n",
    "plt.plot(epochs_range, val_loss, label='Validation Loss')\n",
    "plt.legend(loc='upper right')\n",
    "plt.title('Training and Validation Loss')\n",
    "plt.show()\n",
    "print(\"✅\")"
   ]
  },
  {
   "cell_type": "code",
   "execution_count": 33,
   "metadata": {},
   "outputs": [
    {
     "name": "stdout",
     "output_type": "stream",
     "text": [
      "633/633 [==============================] - 18s 28ms/step - loss: 0.3996 - accuracy: 0.8869\n",
      "loss value: 0.400\n",
      "accuracy value: 88.6902%\n"
     ]
    }
   ],
   "source": [
    "# #테스트 데이터셋을 이용하여 스킵 커넥션 모델의 성능 평가\n",
    "\n",
    "\n",
    "# callback 함수의 가중치 불러오기\n",
    "model_wav_skip.load_weights(checkpoint_dir)\n",
    "\n",
    "\n",
    "# 테스트 데이터를 이용하여 모델의 예측값과 실제값이 얼마나 일치하는지 확인하기\n",
    "results = model_wav_skip.evaluate(test_dataset)\n",
    "\n",
    "# loss\n",
    "print(\"loss value: {:.3f}\".format(results[0]))\n",
    "\n",
    "# accuracy\n",
    "print(\"accuracy value: {:.4f}%\".format(results[1]*100))"
   ]
  },
  {
   "cell_type": "code",
   "execution_count": 35,
   "metadata": {},
   "outputs": [
    {
     "name": "stdout",
     "output_type": "stream",
     "text": [
      "label :  go\n",
      "y_pred: go(Correct!)\n"
     ]
    }
   ],
   "source": [
    "# 모델의 테스트셋을 골라 들어보고\n",
    "inv_label_value = {v: k for k, v in label_value.items()}\n",
    "batch_index = np.random.choice(len(test_wav), size=1, replace=False)\n",
    "\n",
    "batch_xs = test_wav[batch_index]\n",
    "batch_ys = test_label[batch_index]\n",
    "y_pred_ = model_wav_skip(batch_xs, training=False)\n",
    "\n",
    "print(\"label : \", str(inv_label_value[batch_ys[0]]))\n",
    "\n",
    "ipd.Audio(batch_xs.reshape(8000,), rate=8000)\n",
    "\n",
    "#테스트 셋의 라벨과 모델의 실제 예측결과를 비교하기\n",
    "if np.argmax(y_pred_) == batch_ys[0]:\n",
    "    print(\"y_pred: \" + str(inv_label_value[np.argmax(y_pred_)]) + '(Correct!)')\n",
    "else:\n",
    "    print(\"y_pred: \" + str(inv_label_value[np.argmax(y_pred_)]) + '(Incorrect!)')\n"
   ]
  },
  {
   "cell_type": "code",
   "execution_count": null,
   "metadata": {},
   "outputs": [],
   "source": [
    "#푸리에변환 \n",
    "import librosa\n",
    "\n",
    "def wav2spec(wav, fft_size=258): # spectrogram shape을 맞추기위해서 size 변형\n",
    "    D = np.abs(librosa.stft(wav, n_fft=fft_size))\n",
    "    return D\n",
    "print(\"✅\")"
   ]
  },
  {
   "cell_type": "code",
   "execution_count": null,
   "metadata": {},
   "outputs": [],
   "source": [
    "#음성데이터 시각화\n",
    "import librosa.display\n",
    "\n",
    "librosa.display.specshow(librosa.amplitude_to_db(spec, ref=np.max), x_axis='time')\n",
    "plt.title('Power spectrogram')\n",
    "plt.colorbar(format='%+2.0f dB')\n",
    "plt.xticks(range(0, 1))\n",
    "plt.tight_layout()\n",
    "plt.show()"
   ]
  },
  {
   "cell_type": "code",
   "execution_count": null,
   "metadata": {},
   "outputs": [],
   "source": [
    "# 위에서 뽑았던 sample data\n",
    "# 1차원 데이터에서 2차원 데이터로 변환됨\n",
    "\n",
    "spec = wav2spec(data)\n",
    "print(\"Waveform shape : \",data.shape)\n",
    "print(\"Spectrogram shape : \",spec.shape)"
   ]
  },
  {
   "cell_type": "markdown",
   "metadata": {},
   "source": [
    "#### Loss function "
   ]
  },
  {
   "cell_type": "code",
   "execution_count": null,
   "metadata": {},
   "outputs": [],
   "source": [
    "# 정답클래스가 12개 이므로 이를 구분하기 위해\n",
    "# multi-class classification가 필요\n",
    "# Loss funtion으로 Categorical Cross-Entropy loss 함수를 사용\n",
    "\n",
    "optimizer=tf.keras.optimizers.Adam(1e-4)\n",
    "model_wav.compile(loss=tf.keras.losses.CategoricalCrossentropy(from_logits=True),\n",
    "             optimizer=optimizer,\n",
    "             metrics=['accuracy'])\n",
    "print(\"✅\")"
   ]
  },
  {
   "cell_type": "markdown",
   "metadata": {},
   "source": [
    "#### 모델 학습시키기\n",
    "    - Callbak\n",
    "        - model.fit 함수 이용시, callback 함수를 이용해 학습 중간에 원하는 동작을 하도록 설정 가능\n",
    "        -"
   ]
  },
  {
   "cell_type": "code",
   "execution_count": null,
   "metadata": {},
   "outputs": [],
   "source": [
    "cp_callback = tf.keras.callbacks.ModelCheckpoint(checkpoint_dir,\n",
    "                                                 save_weights_only=True,\n",
    "                                                 monitor='val_loss',\n",
    "                                                 mode='auto',\n",
    "                                                 save_best_only=True,\n",
    "                                                 verbose=1)\n",
    "print(\"✅\")"
   ]
  },
  {
   "cell_type": "code",
   "execution_count": null,
   "metadata": {},
   "outputs": [],
   "source": [
    "# 모델 학습 코드\n",
    "# 이전 스텝의 배치 사이즈와 에폭 값을 조절하여 최적의 하이퍼 파마미터를 설정하기\n",
    "history_wav = model_wav.fit(train_dataset, epochs=max_epochs,\n",
    "                    steps_per_epoch=len(train_wav) // batch_size,\n",
    "                    validation_data=test_dataset,\n",
    "                    validation_steps=len(test_wav) // batch_size,\n",
    "                    callbacks=[cp_callback]\n",
    "                    )\n",
    "print(\"✅\")"
   ]
  },
  {
   "cell_type": "markdown",
   "metadata": {},
   "source": [
    "#### 학습 결과확인"
   ]
  },
  {
   "cell_type": "code",
   "execution_count": null,
   "metadata": {},
   "outputs": [],
   "source": [
    "# 학습 결과를 loss 와 accuracy값을 이용하여 시각화\n",
    "# 주의 : train loss 와 val_loss 의 차이가 커지는 경우는\n",
    "# -> 오버피팅이 일어나는 것이므로 수정이 필요하다\n",
    "\n",
    "import matplotlib.pyplot as plt\n",
    "\n",
    "acc = history_wav.history['accuracy']\n",
    "val_acc = history_wav.history['val_accuracy']\n",
    "\n",
    "loss=history_wav.history['loss']\n",
    "val_loss=history_wav.history['val_loss']\n",
    "\n",
    "epochs_range = range(len(acc))\n",
    "\n",
    "plt.figure(figsize=(8, 8))\n",
    "plt.subplot(1, 2, 1)\n",
    "plt.plot(epochs_range, acc, label='Training Accuracy')\n",
    "plt.plot(epochs_range, val_acc, label='Validation Accuracy')\n",
    "plt.legend(loc='lower right')\n",
    "plt.title('Training and Validation Accuracy')\n",
    "\n",
    "plt.subplot(1, 2, 2)\n",
    "plt.plot(epochs_range, loss, label='Training Loss')\n",
    "plt.plot(epochs_range, val_loss, label='Validation Loss')\n",
    "plt.legend(loc='upper right')\n",
    "plt.title('Training and Validation Loss')\n",
    "plt.show()\n",
    "print(\"✅\")"
   ]
  },
  {
   "cell_type": "markdown",
   "metadata": {},
   "source": [
    "#### 평가하기"
   ]
  },
  {
   "cell_type": "code",
   "execution_count": null,
   "metadata": {},
   "outputs": [],
   "source": [
    "# 테스트 데이터셋을 이용하여 모델의 성능 평가\n",
    "\n",
    "\n",
    "# callback 함수의 가중치 불러오기\n",
    "model_wav.load_weights(checkpoint_dir)\n",
    "\n",
    "\n",
    "# 테스트 데이터를 이용하여 모델의 예측값과 실제값이 얼마나 일치하는지 확인하기\n",
    "results = model_wav.evaluate(test_dataset)\n",
    "\n",
    "# loss\n",
    "print(\"loss value: {:.3f}\".format(results[0]))\n",
    "\n",
    "# accuracy\n",
    "print(\"accuracy value: {:.4f}%\".format(results[1]*100))"
   ]
  },
  {
   "cell_type": "markdown",
   "metadata": {},
   "source": [
    "#### 모델 실전테스트"
   ]
  },
  {
   "cell_type": "code",
   "execution_count": null,
   "metadata": {},
   "outputs": [],
   "source": [
    "# 모델의 테스트셋을 골라 들어보고\n",
    "inv_label_value = {v: k for k, v in label_value.items()}\n",
    "batch_index = np.random.choice(len(test_wav), size=1, replace=False)\n",
    "\n",
    "batch_xs = test_wav[batch_index]\n",
    "batch_ys = test_label[batch_index]\n",
    "y_pred_ = model_wav(batch_xs, training=False)\n",
    "\n",
    "print(\"label : \", str(inv_label_value[batch_ys[0]]))\n",
    "\n",
    "ipd.Audio(batch_xs.reshape(8000,), rate=8000)\n",
    "\n",
    "#테스트 셋의 라벨과 모델의 실제 예측결과를 비교하기\n",
    "if np.argmax(y_pred_) == batch_ys[0]:\n",
    "    print(\"y_pred: \" + str(inv_label_value[np.argmax(y_pred_)]) + '(Correct!)')\n",
    "else:\n",
    "    print(\"y_pred: \" + str(inv_label_value[np.argmax(y_pred_)]) + '(Incorrect!)')\n"
   ]
  },
  {
   "cell_type": "markdown",
   "metadata": {},
   "source": [
    "#### 회고\n",
    "    - 배운것\n",
    "        - 데이터를 2d wav로 변환하는 과정이 신기하고 그것을 시각화 하는것이 마치 초음파 사진을 보는것 같다\n",
    "    - 느낀것\n",
    "        -일단 업로드\n",
    "    - 얻은것\n",
    "    - 할것"
   ]
  },
  {
   "cell_type": "code",
   "execution_count": null,
   "metadata": {},
   "outputs": [],
   "source": []
  }
 ],
 "metadata": {
  "kernelspec": {
   "display_name": "aiffel",
   "language": "python",
   "name": "aiffel"
  },
  "language_info": {
   "codemirror_mode": {
    "name": "ipython",
    "version": 3
   },
   "file_extension": ".py",
   "mimetype": "text/x-python",
   "name": "python",
   "nbconvert_exporter": "python",
   "pygments_lexer": "ipython3",
   "version": "3.7.6"
  }
 },
 "nbformat": 4,
 "nbformat_minor": 4
}

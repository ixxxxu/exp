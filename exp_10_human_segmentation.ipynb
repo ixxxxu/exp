{
 "cells": [
  {
   "cell_type": "markdown",
   "metadata": {},
   "source": [
    "### 루브릭\n",
    "\n",
    "아래의 기준을 바탕으로 프로젝트를 평가합니다.\n",
    "\n",
    "평가문항\t상세기준\n",
    "1. 인물모드 사진을 성공적으로 제작하였다.\n",
    "\n",
    "아웃포커싱 효과가 적용된 본인의 인물모드 사진과 고양이 사진, 배경전환 크로마키사진을 각각 1장 이상 성공적으로 제작하였다.\n",
    "2. 제작한 인물모드 사진들에서 나타나는 문제점을 정확히 지적하였다.\n",
    "\n",
    "인물사진에서 발생한 문제점을 정확히 지적한 사진을 제출하였다.\n",
    "3. 인물모드 사진의 문제점을 개선할 수 있는 솔루션을 적절히 제시하였다.\n",
    "\n",
    "추가적인 depth 정보를 활용하여 semantic segmentation mask의 오류를 보완할 수 있는 좋은 솔루션을 구체적으로 제시하였다.\n"
   ]
  },
  {
   "cell_type": "markdown",
   "metadata": {},
   "source": [
    "### Step 1. 인물모드 직접 해 보기\n",
    "- 최소 3장 이상의 인물모드 사진 제작\n",
    "- 인물이 아닌, 동물에 대한 아웃포커싱도 해보기\n",
    "    - 시맨틱 세그멘테이션 스텝에서 힌트찾기\n",
    "- 배경을 blur하는 인물모드 사진이 아닌 배경사진을 다른사진으로 교체하기\n",
    "    - 크로마키 배경합성\n"
   ]
  },
  {
   "cell_type": "markdown",
   "metadata": {},
   "source": [
    "### Step 2. 사진에서 문제점 찾기\n",
    "- 인물영역 뒤걸린 옷이나 사물이 인물영역에 포함되는 문제\n",
    "- 2가지 이상 이상한점 찾아 제출시 포함하기"
   ]
  },
  {
   "cell_type": "markdown",
   "metadata": {},
   "source": [
    "### Step 3. 해결 방법 제안\n",
    "- DeepLab모델의 Semantic Segmantaion이 생성한 Mask영역에 대한 적용 설명\n",
    "- 문제점 \n",
    "- 보완방법 제시\n",
    "    - 세그멘테이션의 한계\n",
    "        -  semantic segmentation 의 부정확성\n",
    "            - 보케 효과의 경우 모듈의 정확도가 1.00이 되어야 완벽한 구현이 가능하다\n",
    "                - 현실적으로 불가능하다\n",
    "            - 피사계심도 이해하기\n",
    "                - 조리개 F 값이 낮고(조리개 최대개방), 셔터스피드가 느릴때(감광센서에 들어오는 빛의 양이 많아질때)\n",
    "                - 사진기와 피사체의 거리가 가까울수록 \n",
    "                    - 배경이 흐릿하게 표현된다\n",
    "                - 피사체와 배경의 거리가 멀수록\n",
    "                    - 배경이 흐릿하게 표현된다\n",
    "                - 초점을 맞춘다는것 (조리개의 개방 크기)\n",
    "                    - 조리개(바늘구멍의 비유)가 값이 낮을 수록 == 빛의 양이 많아지고 == 촛점이 흐려진다 \n",
    "                - 결론\n",
    "                    - 보케효과를 높이려면 조리개 값이 낮은 렌즈를 선택(설정) 하고\n",
    "                    - 초점을 피사체에 맞추고\n",
    "                    - 카메라와 피사체의 거리를 좁히고\n",
    "                    - 셔터스피드를 느리게하여 감광 센서에 들어오는 빛의 양을 많게 설정한다\n",
    "                        - 이로써 흐릿하게 표현되는 배경을 얻을 수 있다\n",
    "                        \n",
    "                 \n",
    "                  "
   ]
  },
  {
   "cell_type": "code",
   "execution_count": null,
   "metadata": {},
   "outputs": [],
   "source": []
  }
 ],
 "metadata": {
  "kernelspec": {
   "display_name": "aiffel",
   "language": "python",
   "name": "aiffel"
  },
  "language_info": {
   "codemirror_mode": {
    "name": "ipython",
    "version": 3
   },
   "file_extension": ".py",
   "mimetype": "text/x-python",
   "name": "python",
   "nbconvert_exporter": "python",
   "pygments_lexer": "ipython3",
   "version": "3.7.6"
  }
 },
 "nbformat": 4,
 "nbformat_minor": 4
}
